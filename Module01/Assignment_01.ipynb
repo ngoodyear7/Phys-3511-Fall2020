{
 "cells": [
  {
   "cell_type": "markdown",
   "metadata": {},
   "source": [
    "# Assignment 01: Due 09/02\n",
    "\n",
    "For this assignment you can use the following packages\n",
    "- numpy\n",
    "- mtplotlib\n",
    "- There is a python math module. This would be imported as\n",
    "  - > import math  \n",
    "  \n",
    "Before final sumbission it is a good idea to click on 'Kernel' --> 'Restart & Run All' to make sure your entire notebook runs correctly. It is easy to accidetly modify a value you did not intend to."
   ]
  },
  {
   "cell_type": "code",
   "execution_count": 1,
   "metadata": {},
   "outputs": [],
   "source": [
    "#import the packages here\n",
    "import numpy as np\n",
    "import scipy as sci\n",
    "import matplotlib.pyplot as plt\n",
    "import math"
   ]
  },
  {
   "cell_type": "markdown",
   "metadata": {},
   "source": [
    "## Problem 1\n",
    "(Problem adapted from scipy.com)\n",
    "\n",
    "Stirling's Approximation for $ln(n!)$ is:\n",
    "\n",
    "\\begin{equation}\n",
    "ln(n!) \\approx nln(n) − n.\n",
    "\\end{equation}\n",
    "\n",
    "Write a program to output $ln(n!)$ and its Stirling's approximation for $2 < n < 20$. Plot on the same graph the exact value and the approximate value as a function of n. Be sure to lable your curves and axes. **Hint**: the math module (and numpy.math) provides a factorial() method.\n"
   ]
  },
  {
   "cell_type": "code",
   "execution_count": 2,
   "metadata": {},
   "outputs": [
    {
     "name": "stdout",
     "output_type": "stream",
     "text": [
      "n = 3\n",
      "Exact Value: 1.791759469228055\n",
      "Stirling Approximation: 0.2958368660043291\n",
      "n = 4\n",
      "Exact Value: 3.1780538303479458\n",
      "Stirling Approximation: 1.5451774444795623\n",
      "n = 5\n",
      "Exact Value: 4.787491742782046\n",
      "Stirling Approximation: 3.0471895621705016\n",
      "n = 6\n",
      "Exact Value: 6.579251212010101\n",
      "Stirling Approximation: 4.750556815368331\n",
      "n = 7\n",
      "Exact Value: 8.525161361065415\n",
      "Stirling Approximation: 6.621371043387192\n",
      "n = 8\n",
      "Exact Value: 10.60460290274525\n",
      "Stirling Approximation: 8.635532333438686\n",
      "n = 9\n",
      "Exact Value: 12.801827480081469\n",
      "Stirling Approximation: 10.775021196025975\n",
      "n = 10\n",
      "Exact Value: 15.104412573075516\n",
      "Stirling Approximation: 13.02585092994046\n",
      "n = 11\n",
      "Exact Value: 17.502307845873887\n",
      "Stirling Approximation: 15.376848000782076\n",
      "n = 12\n",
      "Exact Value: 19.987214495661885\n",
      "Stirling Approximation: 17.818879797456006\n",
      "n = 13\n",
      "Exact Value: 22.552163853123425\n",
      "Stirling Approximation: 20.34434164699998\n",
      "n = 14\n",
      "Exact Value: 25.19122118273868\n",
      "Stirling Approximation: 22.946802614613617\n",
      "n = 15\n",
      "Exact Value: 27.89927138384089\n",
      "Stirling Approximation: 25.62075301653315\n",
      "n = 16\n",
      "Exact Value: 30.671860106080672\n",
      "Stirling Approximation: 28.3614195558365\n",
      "n = 17\n",
      "Exact Value: 33.50507345013689\n",
      "Stirling Approximation: 31.164626848955677\n",
      "n = 18\n",
      "Exact Value: 36.39544520803305\n",
      "Stirling Approximation: 34.02669164213096\n",
      "n = 19\n",
      "Exact Value: 39.339884187199495\n",
      "Stirling Approximation: 36.94434060416236\n"
     ]
    },
    {
     "data": {
      "image/png": "[encoded data removed]",
      "text/plain": [
       "<Figure size 432x288 with 1 Axes>"
      ]
     },
     "metadata": {
      "needs_background": "light"
     },
     "output_type": "display_data"
    }
   ],
   "source": [
    "n = 3\n",
    "while n < 20:\n",
    "    print(\"n = \" + str(n))\n",
    "    print(\"Exact Value: \" + str(np.log(sci.math.factorial(n))))\n",
    "    print(\"Stirling Approximation: \" + str(n*np.log(n)-n))\n",
    "    n = n+1\n",
    "    \n",
    "x = list(range(2,20))\n",
    "def y(x):\n",
    "    return np.log(np.math.factorial(x))\n",
    "def s(x):\n",
    "    return x*np.log(x)-x\n",
    "y2 = np.vectorize(y)\n",
    "s2 = np.vectorize(s)\n",
    "plt.plot(x,y2(x))\n",
    "plt.plot(x,s2(x))\n",
    "plt.xlabel('n value')\n",
    "plt.ylabel('function of n')\n",
    "plt.show()"
   ]
  },
  {
   "cell_type": "markdown",
   "metadata": {},
   "source": [
    "Now modify the program to output $ln(n!)$, Stirling's approximation, and the relative error in the approximation, for only the first value of n for which the relative error in the approximation, (exact-approx)/exact,  is less than 1%. Your out put should quote number to 3 decimal places. **Hint**: You may need to increase your n value and you may get an error message. Can you determine why you get an error and how to correctly make this comparison? "
   ]
  },
  {
   "cell_type": "code",
   "execution_count": 3,
   "metadata": {},
   "outputs": [
    {
     "name": "stdout",
     "output_type": "stream",
     "text": [
      "n = 90\n",
      "Stirling Approximation: 314.983\n",
      "Exact Value of ln(n!): 318.153\n",
      "Relative Error = 0.010\n"
     ]
    }
   ],
   "source": [
    "#loop and calculate error every loop\n",
    "n = 2\n",
    "while True:\n",
    "    stir = n*np.log(n)-n\n",
    "    real = np.math.log(math.factorial(n))\n",
    "    error = abs((stir-real)/real)\n",
    "    if error < 0.01:\n",
    "        errorDec = '%.3f'%(error)\n",
    "        stirDec = '%.3f'%(stir)\n",
    "        realDec = '%.3f'%(real)\n",
    "        print('n = ' + str(n))\n",
    "        print('Stirling Approximation: ' + str(stirDec))\n",
    "        print('Exact Value of ln(n!): ' + str(realDec))\n",
    "        print('Relative Error = ' + str(errorDec))\n",
    "        break\n",
    "    n = n+1"
   ]
  },
  {
   "cell_type": "markdown",
   "metadata": {},
   "source": [
    "## Problem 2\n",
    "Create a numpy array of 100 7's."
   ]
  },
  {
   "cell_type": "code",
   "execution_count": 4,
   "metadata": {},
   "outputs": [
    {
     "data": {
      "text/plain": [
       "array([[7, 7, 7, 7, 7, 7, 7, 7, 7, 7, 7, 7, 7, 7, 7, 7, 7, 7, 7, 7, 7, 7,\n",
       "        7, 7, 7, 7, 7, 7, 7, 7, 7, 7, 7, 7, 7, 7, 7, 7, 7, 7, 7, 7, 7, 7,\n",
       "        7, 7, 7, 7, 7, 7, 7, 7, 7, 7, 7, 7, 7, 7, 7, 7, 7, 7, 7, 7, 7, 7,\n",
       "        7, 7, 7, 7, 7, 7, 7, 7, 7, 7, 7, 7, 7, 7, 7, 7, 7, 7, 7, 7, 7, 7,\n",
       "        7, 7, 7, 7, 7, 7, 7, 7, 7, 7, 7, 7]])"
      ]
     },
     "execution_count": 4,
     "metadata": {},
     "output_type": "execute_result"
    }
   ],
   "source": [
    "np.full((1,100),7)"
   ]
  },
  {
   "cell_type": "markdown",
   "metadata": {},
   "source": [
    "## Problem 3\n",
    "Given the numpy array below. Write a print statement that prints the array below for all values that are larger than 5."
   ]
  },
  {
   "cell_type": "code",
   "execution_count": 5,
   "metadata": {},
   "outputs": [
    {
     "name": "stdout",
     "output_type": "stream",
     "text": [
      "[ 5  0  3  3  7  9  3  5  2  4  7  6  8  8 10  1  6  7  7  8  1  5  9  8\n",
      "  9  4  3  0  3  5  0  2  3  8  1  3  3  3  7  0  1  9  9  0 10  4  7  3\n",
      "  2  7]\n"
     ]
    }
   ],
   "source": [
    "np.random.seed(0)\n",
    "arr = np.random.randint(0,11,50)\n",
    "print(arr)\n",
    "\n"
   ]
  },
  {
   "cell_type": "code",
   "execution_count": 6,
   "metadata": {},
   "outputs": [
    {
     "name": "stdout",
     "output_type": "stream",
     "text": [
      "[ 7  9  7  6  8  8 10  6  7  7  8  9  8  9  8  7  9  9 10  7  7]\n"
     ]
    }
   ],
   "source": [
    "over5=[]\n",
    "for element in arr:\n",
    "    if element > 5:\n",
    "        over5.append(element)\n",
    "print(np.asarray(over5))\n",
    "\n"
   ]
  },
  {
   "cell_type": "markdown",
   "metadata": {},
   "source": [
    "## Problem 4\n",
    "Write a print statement that prints the below array with all values of '3' removed."
   ]
  },
  {
   "cell_type": "code",
   "execution_count": 7,
   "metadata": {},
   "outputs": [
    {
     "name": "stdout",
     "output_type": "stream",
     "text": [
      "[4 5 0 3 3 3 1 3 5 2 4 0 0 4 2 1 0 1 5 1]\n"
     ]
    }
   ],
   "source": [
    "np.random.seed(0)\n",
    "arr2 = np.random.randint(0,6,20)\n",
    "print(arr2)\n",
    "\n",
    "\n"
   ]
  },
  {
   "cell_type": "code",
   "execution_count": 8,
   "metadata": {},
   "outputs": [
    {
     "name": "stdout",
     "output_type": "stream",
     "text": [
      "[4 5 0 1 5 2 4 0 0 4 2 1 0 1 5 1]\n"
     ]
    }
   ],
   "source": [
    "no3 = []\n",
    "for element in arr2:\n",
    "    if element != 3:\n",
    "        no3.append(element)\n",
    "print(np.asarray(no3))\n",
    "        \n",
    "        \n",
    "        "
   ]
  },
  {
   "cell_type": "markdown",
   "metadata": {},
   "source": [
    "## Problem 5a\n",
    "Use numpy *random.randn()* to create a random 2D matrix array, that has 1000 entries in each dimension. When genereating the random values set the randome seed to zero. \n",
    "\n",
    "Fixing a seed will ensure that the same *random* values are generated eveytime you run the cell. You can try removing the seed specification and you will notice you get different random number generations each time you run the cell. In genral it is good practice to fix the seed when debugging your code.\n"
   ]
  },
  {
   "cell_type": "code",
   "execution_count": 9,
   "metadata": {},
   "outputs": [],
   "source": [
    "np.random.seed(0)\n",
    "arr3 = np.random.randn(1000,1000)\n",
    "\n",
    "\n",
    "\n"
   ]
  },
  {
   "cell_type": "markdown",
   "metadata": {},
   "source": [
    "## Problem 5b\n",
    "Create a plot that contains two subplots (one row tow pots). In each sub plot make a histogram of x and y random values from your matrix created in part a. Be sure to label your axes. The histograms will allow us to see how our data is distributed."
   ]
  },
  {
   "cell_type": "code",
   "execution_count": 10,
   "metadata": {},
   "outputs": [
    {
     "data": {
      "text/plain": [
       "(array([  9.,  20.,  70., 146., 217., 239., 160.,  86.,  38.,  15.]),\n",
       " array([-3.04614305, -2.46559324, -1.88504342, -1.3044936 , -0.72394379,\n",
       "        -0.14339397,  0.43715585,  1.01770566,  1.59825548,  2.1788053 ,\n",
       "         2.75935511]),\n",
       " <a list of 10 Patch objects>)"
      ]
     },
     "execution_count": 10,
     "metadata": {},
     "output_type": "execute_result"
    },
    {
     "data": {
      "image/png": "[encoded data removed]",
      "text/plain": [
       "<Figure size 432x288 with 1 Axes>"
      ]
     },
     "metadata": {
      "needs_background": "light"
     },
     "output_type": "display_data"
    }
   ],
   "source": [
    "plt.hist(arr3[:,0])\n",
    "plt.hist(arr3[0,:])\n",
    "\n"
   ]
  },
  {
   "cell_type": "markdown",
   "metadata": {},
   "source": [
    "## Problem 5c\n",
    "Now make a x-y scatter plot of your 2D matrix from part a. Each axis should contain one matrix dimension. Be sure to label your axes. This will allow us to see if there are any obious correlations or dependencies on one another in our data."
   ]
  },
  {
   "cell_type": "code",
   "execution_count": 11,
   "metadata": {},
   "outputs": [
    {
     "data": {
      "text/plain": [
       "Text(0, 0.5, 'y values')"
      ]
     },
     "execution_count": 11,
     "metadata": {},
     "output_type": "execute_result"
    },
    {
     "data": {
      "image/png": "[encoded data removed]",
      "text/plain": [
       "<Figure size 432x288 with 1 Axes>"
      ]
     },
     "metadata": {
      "needs_background": "light"
     },
     "output_type": "display_data"
    }
   ],
   "source": [
    "plt.scatter(arr3[:,0],arr3[0,:])\n",
    "plt.xlabel('x values')\n",
    "plt.ylabel('y values')\n",
    "\n",
    "\n",
    "\n",
    "\n",
    "\n",
    "\n",
    "\n"
   ]
  },
  {
   "cell_type": "markdown",
   "metadata": {},
   "source": [
    "## Problem 5d\n",
    "The scatter plot form part c is good for investigating dependencies, but it is often hard to judge the density of the data, i.e. how much of our data is at a particular x-y range. To see this more clearly we can make a 2D histogram plot, where color corresponding to a 2D bin changes based on the number of counts in it.\n",
    "\n",
    "Make a 2D histogram of your 2D matrix from part a."
   ]
  },
  {
   "cell_type": "code",
   "execution_count": 12,
   "metadata": {},
   "outputs": [
    {
     "data": {
      "text/plain": [
       "(array([[ 0.,  0.,  0.,  0.,  4.,  4.,  2.,  2.,  0.,  0.],\n",
       "        [ 0.,  0.,  3.,  8.,  8., 14., 11.,  2.,  2.,  0.],\n",
       "        [ 1.,  3., 10., 10., 31., 25., 25.,  8.,  8.,  2.],\n",
       "        [ 1.,  5., 15., 37., 59., 53., 37., 26.,  9.,  4.],\n",
       "        [ 4.,  6., 20., 46., 54., 66., 36., 25.,  9.,  3.],\n",
       "        [ 3.,  6., 18., 28., 37., 44., 33., 14.,  5.,  4.],\n",
       "        [ 0.,  0.,  4., 13., 16., 16., 11.,  8.,  4.,  1.],\n",
       "        [ 0.,  0.,  0.,  4.,  6., 12.,  5.,  0.,  1.,  1.],\n",
       "        [ 0.,  0.,  0.,  0.,  1.,  4.,  0.,  1.,  0.,  0.],\n",
       "        [ 0.,  0.,  0.,  0.,  1.,  1.,  0.,  0.,  0.,  0.]]),\n",
       " array([-2.97953433, -2.29087865, -1.60222297, -0.91356728, -0.2249116 ,\n",
       "         0.46374409,  1.15239977,  1.84105545,  2.52971114,  3.21836682,\n",
       "         3.90702251]),\n",
       " array([-3.04614305, -2.46559324, -1.88504342, -1.3044936 , -0.72394379,\n",
       "        -0.14339397,  0.43715585,  1.01770566,  1.59825548,  2.1788053 ,\n",
       "         2.75935511]),\n",
       " <matplotlib.collections.QuadMesh at 0x2540f9f6048>)"
      ]
     },
     "execution_count": 12,
     "metadata": {},
     "output_type": "execute_result"
    },
    {
     "data": {
      "image/png": "[encoded data removed]",
      "text/plain": [
       "<Figure size 432x288 with 1 Axes>"
      ]
     },
     "metadata": {
      "needs_background": "light"
     },
     "output_type": "display_data"
    }
   ],
   "source": [
    "plt.hist2d(arr3[:,0],arr3[0,:])"
   ]
  },
  {
   "cell_type": "markdown",
   "metadata": {},
   "source": [
    "## Problem 6\n",
    "\n",
    "Using *linspace* Generate 100 equally spaced points from 0 to 1. Then plot the cube of the values generated from *linespace* vs the *linspace* generated values."
   ]
  },
  {
   "cell_type": "code",
   "execution_count": 13,
   "metadata": {},
   "outputs": [
    {
     "name": "stdout",
     "output_type": "stream",
     "text": [
      "[0.00000000e+00 1.03061015e-06 8.24488122e-06 2.78264741e-05\n",
      " 6.59590497e-05 1.28826269e-04 2.22611793e-04 3.53499282e-04\n",
      " 5.27672398e-04 7.51314801e-04 1.03061015e-03 1.37174211e-03\n",
      " 1.78089434e-03 2.26425050e-03 2.82799426e-03 3.47830926e-03\n",
      " 4.22137918e-03 5.06338768e-03 6.01051841e-03 7.06895503e-03\n",
      " 8.24488122e-03 9.54448062e-03 1.09739369e-02 1.25394337e-02\n",
      " 1.42471547e-02 1.61032836e-02 1.81140040e-02 2.02854996e-02\n",
      " 2.26239541e-02 2.51355510e-02 2.78264741e-02 3.07029070e-02\n",
      " 3.37710335e-02 3.70370370e-02 4.05071014e-02 4.41874103e-02\n",
      " 4.80841473e-02 5.22034960e-02 5.65516403e-02 6.11347636e-02\n",
      " 6.59590497e-02 7.10306823e-02 7.63558450e-02 8.19407214e-02\n",
      " 8.77914952e-02 9.39143501e-02 1.00315470e-01 1.07001038e-01\n",
      " 1.13977238e-01 1.21250254e-01 1.28826269e-01 1.36711467e-01\n",
      " 1.44912032e-01 1.53434148e-01 1.62283997e-01 1.71467764e-01\n",
      " 1.80991632e-01 1.90861786e-01 2.01084408e-01 2.11665682e-01\n",
      " 2.22611793e-01 2.33928923e-01 2.45623256e-01 2.57700977e-01\n",
      " 2.70168268e-01 2.83031313e-01 2.96296296e-01 3.09969401e-01\n",
      " 3.24056811e-01 3.38564710e-01 3.53499282e-01 3.68866710e-01\n",
      " 3.84673178e-01 4.00924870e-01 4.17627968e-01 4.34788658e-01\n",
      " 4.52413122e-01 4.70507545e-01 4.89078109e-01 5.08130999e-01\n",
      " 5.27672398e-01 5.47708490e-01 5.68245458e-01 5.89289487e-01\n",
      " 6.10846760e-01 6.32923460e-01 6.55525771e-01 6.78659877e-01\n",
      " 7.02331962e-01 7.26548208e-01 7.51314801e-01 7.76637923e-01\n",
      " 8.02523758e-01 8.28978490e-01 8.56008303e-01 8.83619379e-01\n",
      " 9.11817904e-01 9.40610059e-01 9.70002030e-01 1.00000000e+00]\n"
     ]
    },
    {
     "data": {
      "text/plain": [
       "<matplotlib.collections.PathCollection at 0x2540f9f9748>"
      ]
     },
     "execution_count": 13,
     "metadata": {},
     "output_type": "execute_result"
    },
    {
     "data": {
      "image/png": "[encoded data removed]",
      "text/plain": [
       "<Figure size 432x288 with 1 Axes>"
      ]
     },
     "metadata": {
      "needs_background": "light"
     },
     "output_type": "display_data"
    }
   ],
   "source": [
    "oneTo100 = np.linspace(0,1,100)\n",
    "cubes = []\n",
    "for element in oneTo100:\n",
    "    cubes.append(element**3)\n",
    "print(np.asarray(cubes))\n",
    "    \n",
    "plt.scatter(oneTo100,cubes)"
   ]
  },
  {
   "cell_type": "code",
   "execution_count": null,
   "metadata": {},
   "outputs": [],
   "source": []
  }
 ],
 "metadata": {
  "kernelspec": {
   "display_name": "Python 3",
   "language": "python",
   "name": "python3"
  },
  "language_info": {
   "codemirror_mode": {
    "name": "ipython",
    "version": 3
   },
   "file_extension": ".py",
   "mimetype": "text/x-python",
   "name": "python",
   "nbconvert_exporter": "python",
   "pygments_lexer": "ipython3",
   "version": "3.7.4"
  }
 },
 "nbformat": 4,
 "nbformat_minor": 4
}
