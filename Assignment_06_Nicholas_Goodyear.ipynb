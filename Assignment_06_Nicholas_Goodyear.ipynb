{
 "cells": [
  {
   "cell_type": "markdown",
   "metadata": {},
   "source": [
    "# Assignment 06: Due 10/12\n",
    "\n",
    "In this assignment we will look at some real data from the CMS experiment at the LHC. The LHC makes a lot of its data publically available here: http://opendata.cern.ch. The information about the data set we will be working with at can be found here: http://opendata.cern.ch/record/545"
   ]
  },
  {
   "cell_type": "markdown",
   "metadata": {},
   "source": [
    "## Imports \n",
    "\n",
    "For this assignemnt you will need the following imports"
   ]
  },
  {
   "cell_type": "code",
   "execution_count": 1,
   "metadata": {},
   "outputs": [],
   "source": [
    "import pandas as pd\n",
    "import numpy as np\n",
    "import matplotlib.pyplot as plt\n",
    "from scipy import optimize\n",
    "from scipy.optimize import curve_fit #simpliest scipy fitting method\n",
    "%matplotlib notebook"
   ]
  },
  {
   "cell_type": "markdown",
   "metadata": {},
   "source": [
    "# Problem 1\n",
    "\n",
    "Create a Pandas DataFrame object from the data file *Zee_Run2011A.csv*, located in the *data* dircetroy, and use the *info* function to list the information from the DataFrame."
   ]
  },
  {
   "cell_type": "code",
   "execution_count": 2,
   "metadata": {},
   "outputs": [
    {
     "name": "stdout",
     "output_type": "stream",
     "text": [
      "<class 'pandas.core.frame.DataFrame'>\n",
      "RangeIndex: 18885 entries, 0 to 18884\n",
      "Data columns (total 22 columns):\n",
      "Run             18885 non-null int64\n",
      "Event           18885 non-null int64\n",
      "pt1             18885 non-null float64\n",
      "eta1            18885 non-null float64\n",
      "phi1            18885 non-null float64\n",
      "Q1              18885 non-null int64\n",
      "type1           18885 non-null object\n",
      "sigmaEtaEta1    18885 non-null float64\n",
      "HoverE1         18885 non-null float64\n",
      "isoTrack1       18885 non-null float64\n",
      "isoEcal1        18885 non-null float64\n",
      "isoHcal1        18885 non-null float64\n",
      "pt2             18885 non-null float64\n",
      "eta2            18885 non-null float64\n",
      "phi2            18885 non-null float64\n",
      "Q2              18885 non-null int64\n",
      "type2           18885 non-null object\n",
      "sigmaEtaEta2    18885 non-null float64\n",
      "HoverE2         18885 non-null float64\n",
      "isoTrack2       18885 non-null float64\n",
      "isoEcal2        18885 non-null float64\n",
      "isoHcal2        18885 non-null float64\n",
      "dtypes: float64(16), int64(4), object(2)\n",
      "memory usage: 3.2+ MB\n"
     ]
    }
   ],
   "source": [
    "zee = pd.read_csv('Data/Zee_Run2011A.csv')\n",
    "zee.info()"
   ]
  },
  {
   "cell_type": "markdown",
   "metadata": {},
   "source": [
    "# Problem 2\n",
    "\n",
    "Create a new DataFrame column, which lists the value of the reconstructed invariant mass, $m_{inv}$, from the $Z\\rightarrow ee$ decay. The invariant mass is given by\n",
    "\n",
    "$m_{inv} = \\sqrt{2 p_{T1} p_{T2} \\left(cosh\\left(\\eta_1 - \\eta_2\\right) - cos\\left(\\phi_1 -\\phi_2\\right) \\right)}$\n",
    "\n",
    "Make a histogram of the invariant mass."
   ]
  },
  {
   "cell_type": "code",
   "execution_count": 3,
   "metadata": {},
   "outputs": [
    {
     "name": "stdout",
     "output_type": "stream",
     "text": [
      "<class 'pandas.core.frame.DataFrame'>\n",
      "RangeIndex: 18885 entries, 0 to 18884\n",
      "Data columns (total 23 columns):\n",
      "Run             18885 non-null int64\n",
      "Event           18885 non-null int64\n",
      "pt1             18885 non-null float64\n",
      "eta1            18885 non-null float64\n",
      "phi1            18885 non-null float64\n",
      "Q1              18885 non-null int64\n",
      "type1           18885 non-null object\n",
      "sigmaEtaEta1    18885 non-null float64\n",
      "HoverE1         18885 non-null float64\n",
      "isoTrack1       18885 non-null float64\n",
      "isoEcal1        18885 non-null float64\n",
      "isoHcal1        18885 non-null float64\n",
      "pt2             18885 non-null float64\n",
      "eta2            18885 non-null float64\n",
      "phi2            18885 non-null float64\n",
      "Q2              18885 non-null int64\n",
      "type2           18885 non-null object\n",
      "sigmaEtaEta2    18885 non-null float64\n",
      "HoverE2         18885 non-null float64\n",
      "isoTrack2       18885 non-null float64\n",
      "isoEcal2        18885 non-null float64\n",
      "isoHcal2        18885 non-null float64\n",
      "invMass         18885 non-null float64\n",
      "dtypes: float64(17), int64(4), object(2)\n",
      "memory usage: 3.3+ MB\n"
     ]
    },
    {
     "data": {
      "text/plain": [
       "(array([ 31.,  33.,  28.,  26.,  24.,  34.,  30.,  28.,  33.,  43.,  26.,\n",
       "         27.,  34.,  32.,  36.,  26.,  33.,  28.,  33.,  39.,  41.,  44.,\n",
       "         35.,  32.,  44.,  46.,  47.,  36.,  29.,  42.,  42.,  32.,  34.,\n",
       "         31.,  44.,  43.,  33.,  37.,  52.,  40.,  44.,  62.,  39.,  37.,\n",
       "         51.,  48.,  45.,  35.,  44.,  46.,  36.,  41.,  50.,  50.,  57.,\n",
       "         48.,  54.,  39.,  53.,  44.,  60.,  57.,  57.,  50.,  47.,  55.,\n",
       "         39.,  51.,  61.,  63.,  51.,  56.,  64.,  55.,  53.,  64.,  62.,\n",
       "         53.,  66.,  63.,  70.,  59.,  57.,  67.,  72.,  74.,  67.,  60.,\n",
       "         74.,  80.,  64.,  76.,  96.,  67.,  92.,  80.,  89.,  94., 107.,\n",
       "         92.,  77., 102., 104., 126., 100., 147., 116., 134., 137., 139.,\n",
       "        144., 188., 186., 166., 162., 215., 196., 223., 210., 237., 276.,\n",
       "        262., 254., 293., 298., 280., 293., 299., 341., 293., 319., 339.,\n",
       "        350., 290., 275., 294., 237., 257., 207., 219., 181., 190., 153.,\n",
       "        153., 131., 115., 123., 133.,  93.,  83.,  97.,  91.,  60.,  75.,\n",
       "         65.,  84.,  69.,  52.,  53.,  59.,  46.,  52.,  65.,  42.,  51.,\n",
       "         63.,  52.,  54.,  52.,  46.,  45.,  39.,  42.,  39.,  26.,  42.,\n",
       "         43.,  40.,  50.,  37.,  36.,  41.,  38.,  35.,  31.,  44.,  38.,\n",
       "         33.,  33.,  36.,  39.,  29.,  24.,  47.,  27.,  24.,  35.,  34.,\n",
       "         36.,  32.,  38.,  32.,  27.,  26.,  31.,  36.,  48.,  30.,  20.,\n",
       "         30.,  35.,  29.,  30.,  37.,  27.,  29.,  32.,  32.,  37.,  35.,\n",
       "         37.,  29.,  27.,  24.,  38.,  22.,  24.,  33.,  25.,  23.,  25.,\n",
       "         30.,  28.,  23.,  23.,  25.,  14.,  23.,  30.,  24.,  28.,  27.,\n",
       "         24.,  26.,  20.,  22.,  26.,  25.,  30.,  31.]),\n",
       " array([ 60.00164676,  60.24158006,  60.48151337,  60.72144667,\n",
       "         60.96137997,  61.20131328,  61.44124658,  61.68117989,\n",
       "         61.92111319,  62.16104649,  62.4009798 ,  62.6409131 ,\n",
       "         62.88084641,  63.12077971,  63.36071301,  63.60064632,\n",
       "         63.84057962,  64.08051293,  64.32044623,  64.56037953,\n",
       "         64.80031284,  65.04024614,  65.28017945,  65.52011275,\n",
       "         65.76004606,  65.99997936,  66.23991266,  66.47984597,\n",
       "         66.71977927,  66.95971258,  67.19964588,  67.43957918,\n",
       "         67.67951249,  67.91944579,  68.1593791 ,  68.3993124 ,\n",
       "         68.6392457 ,  68.87917901,  69.11911231,  69.35904562,\n",
       "         69.59897892,  69.83891222,  70.07884553,  70.31877883,\n",
       "         70.55871214,  70.79864544,  71.03857875,  71.27851205,\n",
       "         71.51844535,  71.75837866,  71.99831196,  72.23824527,\n",
       "         72.47817857,  72.71811187,  72.95804518,  73.19797848,\n",
       "         73.43791179,  73.67784509,  73.91777839,  74.1577117 ,\n",
       "         74.397645  ,  74.63757831,  74.87751161,  75.11744491,\n",
       "         75.35737822,  75.59731152,  75.83724483,  76.07717813,\n",
       "         76.31711144,  76.55704474,  76.79697804,  77.03691135,\n",
       "         77.27684465,  77.51677796,  77.75671126,  77.99664456,\n",
       "         78.23657787,  78.47651117,  78.71644448,  78.95637778,\n",
       "         79.19631108,  79.43624439,  79.67617769,  79.916111  ,\n",
       "         80.1560443 ,  80.3959776 ,  80.63591091,  80.87584421,\n",
       "         81.11577752,  81.35571082,  81.59564413,  81.83557743,\n",
       "         82.07551073,  82.31544404,  82.55537734,  82.79531065,\n",
       "         83.03524395,  83.27517725,  83.51511056,  83.75504386,\n",
       "         83.99497717,  84.23491047,  84.47484377,  84.71477708,\n",
       "         84.95471038,  85.19464369,  85.43457699,  85.67451029,\n",
       "         85.9144436 ,  86.1543769 ,  86.39431021,  86.63424351,\n",
       "         86.87417682,  87.11411012,  87.35404342,  87.59397673,\n",
       "         87.83391003,  88.07384334,  88.31377664,  88.55370994,\n",
       "         88.79364325,  89.03357655,  89.27350986,  89.51344316,\n",
       "         89.75337646,  89.99330977,  90.23324307,  90.47317638,\n",
       "         90.71310968,  90.95304298,  91.19297629,  91.43290959,\n",
       "         91.6728429 ,  91.9127762 ,  92.15270951,  92.39264281,\n",
       "         92.63257611,  92.87250942,  93.11244272,  93.35237603,\n",
       "         93.59230933,  93.83224263,  94.07217594,  94.31210924,\n",
       "         94.55204255,  94.79197585,  95.03190915,  95.27184246,\n",
       "         95.51177576,  95.75170907,  95.99164237,  96.23157567,\n",
       "         96.47150898,  96.71144228,  96.95137559,  97.19130889,\n",
       "         97.4312422 ,  97.6711755 ,  97.9111088 ,  98.15104211,\n",
       "         98.39097541,  98.63090872,  98.87084202,  99.11077532,\n",
       "         99.35070863,  99.59064193,  99.83057524, 100.07050854,\n",
       "        100.31044184, 100.55037515, 100.79030845, 101.03024176,\n",
       "        101.27017506, 101.51010836, 101.75004167, 101.98997497,\n",
       "        102.22990828, 102.46984158, 102.70977489, 102.94970819,\n",
       "        103.18964149, 103.4295748 , 103.6695081 , 103.90944141,\n",
       "        104.14937471, 104.38930801, 104.62924132, 104.86917462,\n",
       "        105.10910793, 105.34904123, 105.58897453, 105.82890784,\n",
       "        106.06884114, 106.30877445, 106.54870775, 106.78864105,\n",
       "        107.02857436, 107.26850766, 107.50844097, 107.74837427,\n",
       "        107.98830758, 108.22824088, 108.46817418, 108.70810749,\n",
       "        108.94804079, 109.1879741 , 109.4279074 , 109.6678407 ,\n",
       "        109.90777401, 110.14770731, 110.38764062, 110.62757392,\n",
       "        110.86750722, 111.10744053, 111.34737383, 111.58730714,\n",
       "        111.82724044, 112.06717374, 112.30710705, 112.54704035,\n",
       "        112.78697366, 113.02690696, 113.26684027, 113.50677357,\n",
       "        113.74670687, 113.98664018, 114.22657348, 114.46650679,\n",
       "        114.70644009, 114.94637339, 115.1863067 , 115.42624   ,\n",
       "        115.66617331, 115.90610661, 116.14603991, 116.38597322,\n",
       "        116.62590652, 116.86583983, 117.10577313, 117.34570643,\n",
       "        117.58563974, 117.82557304, 118.06550635, 118.30543965,\n",
       "        118.54537296, 118.78530626, 119.02523956, 119.26517287,\n",
       "        119.50510617, 119.74503948, 119.98497278]),\n",
       " <a list of 250 Patch objects>)"
      ]
     },
     "execution_count": 3,
     "metadata": {},
     "output_type": "execute_result"
    },
    {
     "data": {
      "image/png": "[encoded data removed]",
      "text/plain": [
       "<Figure size 432x288 with 1 Axes>"
      ]
     },
     "metadata": {
      "needs_background": "light"
     },
     "output_type": "display_data"
    }
   ],
   "source": [
    "invMass = np.sqrt(2*zee.pt1*zee.pt2*(np.cosh(zee.eta1-zee.eta2)-np.cos(zee.phi1-zee.phi2)))\n",
    "zee['invMass'] = invMass\n",
    "zee.info()\n",
    "\n",
    "plt.hist(invMass,bins=250)"
   ]
  },
  {
   "cell_type": "markdown",
   "metadata": {},
   "source": [
    "# Problem 3\n",
    "\n",
    "The Relativistic Breit-Wigner distribution is expected to describe the , which is given as\n",
    "\n",
    "Wikepedia: https://en.wikipedia.org/wiki/Relativistic_Breit%E2%80%93Wigner_distribution\n",
    "\n",
    "$f(E) = \\frac{k}{(E^2 -M^2)^2 + M^2\\Gamma^2}$, where\n",
    "\n",
    " * $\\gamma$ = $\\sqrt{M^2(M^2+\\Gamma^2)}$\n",
    " * $k = \\frac{2\\sqrt{2}M\\Gamma\\gamma}{\\pi\\sqrt{M^2+\\gamma}}$\n",
    " \n",
    " Where $E$ is the energy, $M$ is the mass value where the function will peak. \n",
    " Fit the invariant mass distribution with the function:\n",
    " \n",
    " $aE + b + cf(E)$,\n",
    " \n",
    " where $a, b, $ and $c$ are fit parameters to be deterimined by your fit that describe a linear background, and $f(E)$ is the Relativistic Breit-Wigner function described above. To do this you should make a function that takes as agruments: $\\Gamma, M, a, b, c$. Where $\\Gamma$ and $M$ are contained in the Breit-Wigner function ($f(E)$). Our fit will determine the values $\\Gamma, M, a, b, c$. The value of $M = m_{inv}$ and should be near where the distribution peaks.   \n",
    " \n",
    " Fit the distribution and calculate the reduced $\\chi^2$. You can use either the *curve_fit* function form Scipy or the MC fitting approach.\n",
    " \n",
    " What is your best invariant mass value according to your fit? How does this compare to the accepted value of the $Z$ boson mass (you can look it up on Wikipedia)?"
   ]
  },
  {
   "cell_type": "code",
   "execution_count": 4,
   "metadata": {},
   "outputs": [],
   "source": [
    "def breitwigner_rel(E, gamma, M, a, b, A):\n",
    "    little_gamma = np.sqrt(M**2*(M**2 + gamma**2))\n",
    "    k = 2*np.sqrt(2)*M*gamma*little_gamma/(np.pi*np.sqrt(M**2 + little_gamma))\n",
    "    return a*E + b + A*(k/((E**2 - M**2)**2 + M**2 * gamma**2))"
   ]
  },
  {
   "cell_type": "code",
   "execution_count": 5,
   "metadata": {},
   "outputs": [
    {
     "name": "stdout",
     "output_type": "stream",
     "text": [
      "[ 36.  20.  20.  37.  31.  33.  25.  35.  24.  19.  36.  36.  24.  22.\n",
      "  25.  33.  33.  40.  31.  37.  29.  38.  35.  28.  33.  30.  34.  34.\n",
      "  36.  39.  34.  43.  33.  32.  31.  36.  31.  27.  32.  41.  39.  44.\n",
      "  33.  36.  41.  43.  36.  33.  41.  36.  39.  50.  35.  35.  42.  42.\n",
      "  40.  50.  43.  40.  42.  36.  47.  42.  50.  54.  43.  42.  40.  47.\n",
      "  47.  61.  35.  49.  55.  58.  59.  47.  57.  58.  54.  45.  67.  67.\n",
      "  62.  73.  69.  51.  52.  74.  59.  71.  79.  76.  69. 106.  82.  78.\n",
      "  86.  95.  91.  94.  90.  98. 124. 137. 111. 106. 115. 110. 146. 136.\n",
      " 132. 143. 152. 136. 159. 172. 180. 182. 171. 166. 197. 198. 197. 195.\n",
      " 175. 206. 192. 237. 206. 201. 204. 207. 243. 211. 237. 186. 197. 187.\n",
      " 198. 171. 150. 178. 153. 136. 154. 132. 120. 131. 108.  99. 104.  99.\n",
      "  81.  65.  83.  85. 100.  67.  60.  49.  75.  58.  64.  43.  43.  44.\n",
      "  56.  41.  57.  41.  58.  36.  27.  37.  47.  32.  27.  31.  44.  43.\n",
      "  22.  38.  31.  40.  40.  37.  35.  31.  38.  32.  31.  30.  28.  27.\n",
      "  25.  23.  28.  15.  28.  25.  31.  29.  27.  33.  26.  23.  25.  24.\n",
      "  25.  29.  23.  25.  19.  27.  28.  26.  24.  21.  23.  26.  18.  31.\n",
      "  19.  22.  11.  31.  22.  19.  19.  15.  25.  20.  27.  24.  25.  18.\n",
      "  28.  22.  17.  18.  20.  20.  19.  28.  19.  35.  22.  15.]\n",
      "[ 70.    70.16  70.32  70.48  70.64  70.8   70.96  71.12  71.28  71.44\n",
      "  71.6   71.76  71.92  72.08  72.24  72.4   72.56  72.72  72.88  73.04\n",
      "  73.2   73.36  73.52  73.68  73.84  74.    74.16  74.32  74.48  74.64\n",
      "  74.8   74.96  75.12  75.28  75.44  75.6   75.76  75.92  76.08  76.24\n",
      "  76.4   76.56  76.72  76.88  77.04  77.2   77.36  77.52  77.68  77.84\n",
      "  78.    78.16  78.32  78.48  78.64  78.8   78.96  79.12  79.28  79.44\n",
      "  79.6   79.76  79.92  80.08  80.24  80.4   80.56  80.72  80.88  81.04\n",
      "  81.2   81.36  81.52  81.68  81.84  82.    82.16  82.32  82.48  82.64\n",
      "  82.8   82.96  83.12  83.28  83.44  83.6   83.76  83.92  84.08  84.24\n",
      "  84.4   84.56  84.72  84.88  85.04  85.2   85.36  85.52  85.68  85.84\n",
      "  86.    86.16  86.32  86.48  86.64  86.8   86.96  87.12  87.28  87.44\n",
      "  87.6   87.76  87.92  88.08  88.24  88.4   88.56  88.72  88.88  89.04\n",
      "  89.2   89.36  89.52  89.68  89.84  90.    90.16  90.32  90.48  90.64\n",
      "  90.8   90.96  91.12  91.28  91.44  91.6   91.76  91.92  92.08  92.24\n",
      "  92.4   92.56  92.72  92.88  93.04  93.2   93.36  93.52  93.68  93.84\n",
      "  94.    94.16  94.32  94.48  94.64  94.8   94.96  95.12  95.28  95.44\n",
      "  95.6   95.76  95.92  96.08  96.24  96.4   96.56  96.72  96.88  97.04\n",
      "  97.2   97.36  97.52  97.68  97.84  98.    98.16  98.32  98.48  98.64\n",
      "  98.8   98.96  99.12  99.28  99.44  99.6   99.76  99.92 100.08 100.24\n",
      " 100.4  100.56 100.72 100.88 101.04 101.2  101.36 101.52 101.68 101.84\n",
      " 102.   102.16 102.32 102.48 102.64 102.8  102.96 103.12 103.28 103.44\n",
      " 103.6  103.76 103.92 104.08 104.24 104.4  104.56 104.72 104.88 105.04\n",
      " 105.2  105.36 105.52 105.68 105.84 106.   106.16 106.32 106.48 106.64\n",
      " 106.8  106.96 107.12 107.28 107.44 107.6  107.76 107.92 108.08 108.24\n",
      " 108.4  108.56 108.72 108.88 109.04 109.2  109.36 109.52 109.68 109.84\n",
      " 110.  ]\n"
     ]
    },
    {
     "data": {
      "image/png": "[encoded data removed]",
      "text/plain": [
       "<Figure size 432x288 with 1 Axes>"
      ]
     },
     "metadata": {
      "needs_background": "light"
     },
     "output_type": "display_data"
    }
   ],
   "source": [
    "# Let's limit the fit near to the peak of the histogram.\n",
    "lowerlimit = 70\n",
    "upperlimit = 110\n",
    "bins = 250\n",
    "\n",
    "## Need to go over this with class\n",
    "fig = plt.figure()\n",
    "histogram_mu = plt.hist(invMass, bins=bins, range=(lowerlimit,upperlimit))\n",
    "\n",
    "print(histogram_mu[0][:]) #bins counts\n",
    "print(histogram_mu[1][:]) #mass values\n",
    "\n",
    "y_mu = histogram_mu[0] #bin counts\n",
    "x_mu = 0.5*( histogram_mu[1][0:-1] + histogram_mu[1][1:] ) #bin center\n",
    "y_mu_error = np.sqrt(y_mu)\n",
    "for i in range (len(y_mu)):\n",
    "    if y_mu_error[i] == 0:\n",
    "        y_mu_error[i] = 1.0\n",
    "    else:\n",
    "        y_mu_error[i] = y_mu_error[i]\n",
    "##\n",
    "\n",
    "initials = [2.5,91,-2, 200, 13000]\n",
    "best_mu, covariance_mu = curve_fit(breitwigner_rel, x_mu, y_mu, p0=initials, sigma=y_mu_error)\n",
    "error_mu = np.sqrt(np.diag(covariance_mu))        \n",
    "\n",
    "plt.plot(x_mu, breitwigner_rel(x_mu, *best_mu), 'r-', label='gamma = {}, M = {}'.format(best_mu[0], best_mu[1]))\n",
    "plt.xlabel('Invariant mass [GeV]')\n",
    "plt.ylabel('Number of event')\n",
    "plt.title('The Breit-Wigner fit')\n",
    "plt.legend();"
   ]
  },
  {
   "cell_type": "code",
   "execution_count": null,
   "metadata": {},
   "outputs": [],
   "source": [
    "#0.61% difference between accepted value and measured value for Z Boson Mass"
   ]
  },
  {
   "cell_type": "markdown",
   "metadata": {},
   "source": [
    "# Problem 4\n",
    "\n",
    "On the same graph, make histograms of the $\\eta_1$ and $\\eta_2$ distributions. Be sure to include a legend so the two distributions can be distinquised."
   ]
  },
  {
   "cell_type": "code",
   "execution_count": 6,
   "metadata": {},
   "outputs": [
    {
     "data": {
      "text/plain": [
       "<matplotlib.legend.Legend at 0x1b2b66bdac8>"
      ]
     },
     "execution_count": 6,
     "metadata": {},
     "output_type": "execute_result"
    },
    {
     "data": {
      "image/png": "[encoded data removed]",
      "text/plain": [
       "<Figure size 432x288 with 1 Axes>"
      ]
     },
     "metadata": {
      "needs_background": "light"
     },
     "output_type": "display_data"
    }
   ],
   "source": [
    "plt.hist(zee.eta1,bins=250,alpha = 0.7, label=r'$\\eta_1$')\n",
    "plt.hist(zee.eta2,bins=250,alpha = 0.7, label=r'$\\eta_2$')\n",
    "plt.legend()"
   ]
  },
  {
   "cell_type": "markdown",
   "metadata": {},
   "source": [
    "# Problem 5\n",
    "\n",
    "From the distribution above, we clearly see two distinct distributions in the histogram. We can explain this due to the decay being detected in two different detectors, the electromagnetic barrel calorimeter (EB) and the endcap electromagnetic calorimeter (EE). This distinction is made in the column labeled *type1* and *type2*, which tells us which detector particle 1 and particle 2 are detected in. \n",
    "\n",
    "Create two DataFrames *barrel* and *endcap*, where *barrel* keeps all of the information in the original DataFrame where both particles were detected in the EB, and *endcap* keeps all of the information in the original DataFrame where both particles were detected in the EE.\n",
    "\n",
    "Make two sub plots where in sub plot one you histogram the $\\eta1$ distribution for the particles in the EB and EE. Then in sub plot two histogram the $\\eta2$ distribution for particles detected in the EE and EB. Be sure to include a legend that distiquishes EB from EE events.\n",
    "\n",
    "Based on the information above, does our assumption that the $\\eta$ distribution looks the way it does is because of the two different detectors make sense? Based on your histograms, what is the rough $\\eta$ ranges covered by the EB and EE detectors?"
   ]
  },
  {
   "cell_type": "code",
   "execution_count": 7,
   "metadata": {},
   "outputs": [
    {
     "data": {
      "text/plain": [
       "(array([ 2.,  5.,  7., 14., 17., 22., 26., 25., 30., 39., 29., 46., 35.,\n",
       "        27., 24., 30., 24., 27., 32., 33., 36., 44., 32., 29., 31., 25.,\n",
       "        29., 25., 22., 35., 24., 21., 28., 22., 25., 18., 30., 28., 25.,\n",
       "        20., 20., 21., 24., 30., 18., 19., 21., 14.,  2.,  0.,  0.,  0.,\n",
       "         0.,  0.,  0.,  0.,  0.,  0.,  0.,  0.,  0.,  0.,  0.,  0.,  0.,\n",
       "         0.,  0.,  0.,  0.,  0.,  0.,  0.,  0.,  0.,  0.,  0.,  0.,  0.,\n",
       "         0.,  0.,  0.,  0.,  0.,  0.,  0.,  0.,  0.,  0.,  0.,  0.,  0.,\n",
       "         0.,  0.,  0.,  0.,  0.,  0.,  0.,  0.,  0.,  0.,  0.,  0.,  0.,\n",
       "         0.,  0.,  0.,  0.,  0.,  0.,  0.,  0.,  0.,  0.,  0.,  0.,  0.,\n",
       "         0.,  0.,  0.,  0.,  0.,  0.,  0.,  0.,  0.,  0.,  0.,  0.,  0.,\n",
       "         0.,  0.,  0.,  0.,  0.,  0.,  0.,  0.,  0.,  0.,  0.,  0.,  0.,\n",
       "         0.,  0.,  0.,  0.,  0.,  0.,  0.,  0.,  0.,  0.,  0.,  0.,  0.,\n",
       "         0.,  0.,  0.,  0.,  0.,  0.,  0.,  0.,  0.,  0.,  0.,  0.,  0.,\n",
       "         0.,  0.,  0.,  0.,  0.,  0.,  0.,  0.,  0.,  0.,  0.,  0.,  0.,\n",
       "         1.,  8., 19., 23., 35., 21., 20., 21., 25., 15., 16., 36., 24.,\n",
       "        19., 22., 26., 22., 23., 25., 16., 25., 30., 20., 34., 28., 24.,\n",
       "        25., 30., 34., 25., 27., 39., 37., 33., 38., 33., 28., 28., 33.,\n",
       "        31., 38., 26., 20., 16., 25., 13., 12.,  6.,  1.,  1.,  0.,  0.,\n",
       "         0.,  0.,  0.,  0.,  0.,  0.,  0.,  0.,  0.,  0.,  0.,  0.,  0.,\n",
       "         0.,  0.,  1.]),\n",
       " array([-2.60551   , -2.58296476, -2.56041952, -2.53787428, -2.51532904,\n",
       "        -2.4927838 , -2.47023856, -2.44769332, -2.42514808, -2.40260284,\n",
       "        -2.3800576 , -2.35751236, -2.33496712, -2.31242188, -2.28987664,\n",
       "        -2.2673314 , -2.24478616, -2.22224092, -2.19969568, -2.17715044,\n",
       "        -2.1546052 , -2.13205996, -2.10951472, -2.08696948, -2.06442424,\n",
       "        -2.041879  , -2.01933376, -1.99678852, -1.97424328, -1.95169804,\n",
       "        -1.9291528 , -1.90660756, -1.88406232, -1.86151708, -1.83897184,\n",
       "        -1.8164266 , -1.79388136, -1.77133612, -1.74879088, -1.72624564,\n",
       "        -1.7037004 , -1.68115516, -1.65860992, -1.63606468, -1.61351944,\n",
       "        -1.5909742 , -1.56842896, -1.54588372, -1.52333848, -1.50079324,\n",
       "        -1.478248  , -1.45570276, -1.43315752, -1.41061228, -1.38806704,\n",
       "        -1.3655218 , -1.34297656, -1.32043132, -1.29788608, -1.27534084,\n",
       "        -1.2527956 , -1.23025036, -1.20770512, -1.18515988, -1.16261464,\n",
       "        -1.1400694 , -1.11752416, -1.09497892, -1.07243368, -1.04988844,\n",
       "        -1.0273432 , -1.00479796, -0.98225272, -0.95970748, -0.93716224,\n",
       "        -0.914617  , -0.89207176, -0.86952652, -0.84698128, -0.82443604,\n",
       "        -0.8018908 , -0.77934556, -0.75680032, -0.73425508, -0.71170984,\n",
       "        -0.6891646 , -0.66661936, -0.64407412, -0.62152888, -0.59898364,\n",
       "        -0.5764384 , -0.55389316, -0.53134792, -0.50880268, -0.48625744,\n",
       "        -0.4637122 , -0.44116696, -0.41862172, -0.39607648, -0.37353124,\n",
       "        -0.350986  , -0.32844076, -0.30589552, -0.28335028, -0.26080504,\n",
       "        -0.2382598 , -0.21571456, -0.19316932, -0.17062408, -0.14807884,\n",
       "        -0.1255336 , -0.10298836, -0.08044312, -0.05789788, -0.03535264,\n",
       "        -0.0128074 ,  0.00973784,  0.03228308,  0.05482832,  0.07737356,\n",
       "         0.0999188 ,  0.12246404,  0.14500928,  0.16755452,  0.19009976,\n",
       "         0.212645  ,  0.23519024,  0.25773548,  0.28028072,  0.30282596,\n",
       "         0.3253712 ,  0.34791644,  0.37046168,  0.39300692,  0.41555216,\n",
       "         0.4380974 ,  0.46064264,  0.48318788,  0.50573312,  0.52827836,\n",
       "         0.5508236 ,  0.57336884,  0.59591408,  0.61845932,  0.64100456,\n",
       "         0.6635498 ,  0.68609504,  0.70864028,  0.73118552,  0.75373076,\n",
       "         0.776276  ,  0.79882124,  0.82136648,  0.84391172,  0.86645696,\n",
       "         0.8890022 ,  0.91154744,  0.93409268,  0.95663792,  0.97918316,\n",
       "         1.0017284 ,  1.02427364,  1.04681888,  1.06936412,  1.09190936,\n",
       "         1.1144546 ,  1.13699984,  1.15954508,  1.18209032,  1.20463556,\n",
       "         1.2271808 ,  1.24972604,  1.27227128,  1.29481652,  1.31736176,\n",
       "         1.339907  ,  1.36245224,  1.38499748,  1.40754272,  1.43008796,\n",
       "         1.4526332 ,  1.47517844,  1.49772368,  1.52026892,  1.54281416,\n",
       "         1.5653594 ,  1.58790464,  1.61044988,  1.63299512,  1.65554036,\n",
       "         1.6780856 ,  1.70063084,  1.72317608,  1.74572132,  1.76826656,\n",
       "         1.7908118 ,  1.81335704,  1.83590228,  1.85844752,  1.88099276,\n",
       "         1.903538  ,  1.92608324,  1.94862848,  1.97117372,  1.99371896,\n",
       "         2.0162642 ,  2.03880944,  2.06135468,  2.08389992,  2.10644516,\n",
       "         2.1289904 ,  2.15153564,  2.17408088,  2.19662612,  2.21917136,\n",
       "         2.2417166 ,  2.26426184,  2.28680708,  2.30935232,  2.33189756,\n",
       "         2.3544428 ,  2.37698804,  2.39953328,  2.42207852,  2.44462376,\n",
       "         2.467169  ,  2.48971424,  2.51225948,  2.53480472,  2.55734996,\n",
       "         2.5798952 ,  2.60244044,  2.62498568,  2.64753092,  2.67007616,\n",
       "         2.6926214 ,  2.71516664,  2.73771188,  2.76025712,  2.78280236,\n",
       "         2.8053476 ,  2.82789284,  2.85043808,  2.87298332,  2.89552856,\n",
       "         2.9180738 ,  2.94061904,  2.96316428,  2.98570952,  3.00825476,\n",
       "         3.0308    ]),\n",
       " <a list of 250 Patch objects>)"
      ]
     },
     "execution_count": 7,
     "metadata": {},
     "output_type": "execute_result"
    },
    {
     "data": {
      "image/png": "[encoded data removed]",
      "text/plain": [
       "<Figure size 432x288 with 2 Axes>"
      ]
     },
     "metadata": {
      "needs_background": "light"
     },
     "output_type": "display_data"
    }
   ],
   "source": [
    "barrel = zee[(zee['type1']=='EB') & (zee['type2']=='EB')]\n",
    "endcap = zee[(zee['type1']=='EE') & (zee['type2']=='EE')]\n",
    "\n",
    "fig,a=plt.subplots(2,1)\n",
    "a[0].set_title('eta 1')\n",
    "a[0].hist(barrel.eta1,bins=250)\n",
    "a[0].hist(endcap.eta2,bins=250)\n",
    "\n",
    "a[1].set_title('eta 2')\n",
    "a[1].hist(barrel.eta2,bins=250)\n",
    "a[1].hist(endcap.eta2,bins=250)"
   ]
  },
  {
   "cell_type": "markdown",
   "metadata": {},
   "source": [
    "# Problem 6\n",
    "\n",
    "With particles being detected in two different detectors, the resolution of the detectors could differ. This could reslt in measureing the boson mass better in one detector than the other.\n",
    "\n",
    "Using your *barrel* and *endcap* DataFrames from above, on the same graph make a histogram of the invariant mass measured in the barrel and endcap detectors.  \n",
    "\n",
    "Use the *std* function to get the standard deviation of the two invariant mass distributions. The standard deviation is reflective of how narrow our mass peak is. Which detector gives the better resolution and hence the narrower invariant mass distribution? Does your histogram support the same conclusion?"
   ]
  },
  {
   "cell_type": "code",
   "execution_count": 8,
   "metadata": {},
   "outputs": [
    {
     "name": "stdout",
     "output_type": "stream",
     "text": [
      "11.489115344078318\n",
      "12.229202324653295\n"
     ]
    },
    {
     "data": {
      "text/plain": [
       "<matplotlib.legend.Legend at 0x1b2b6703b48>"
      ]
     },
     "execution_count": 8,
     "metadata": {},
     "output_type": "execute_result"
    },
    {
     "data": {
      "image/png": "[encoded data removed]",
      "text/plain": [
       "<Figure size 432x288 with 1 Axes>"
      ]
     },
     "metadata": {
      "needs_background": "light"
     },
     "output_type": "display_data"
    }
   ],
   "source": [
    "print(barrel.invMass.std())\n",
    "print(endcap.invMass.std())\n",
    "\n",
    "plt.hist(barrel.invMass,bins=250,label='barrel')\n",
    "plt.hist(endcap.invMass,bins=250,label='endcap')\n",
    "plt.legend()\n",
    "\n",
    "#barrel detector has narrower mass distribution, \n",
    "#as proven by both the standard deviation and the histogram"
   ]
  },
  {
   "cell_type": "markdown",
   "metadata": {},
   "source": [
    "# Problem 7\n",
    "From your DataFrame (from Problem 2), drop all columns except for pt1, eta1, phi1, pt2, eta2, phi2, and M. \n",
    "Using this DataFrame, use the Pandas *corr* function to produce a correlataion table. What quantites have the strongest correlation (that is not 1)?"
   ]
  },
  {
   "cell_type": "code",
   "execution_count": 20,
   "metadata": {},
   "outputs": [
    {
     "data": {
      "text/html": [
       "<div>\n",
       "<style scoped>\n",
       "    .dataframe tbody tr th:only-of-type {\n",
       "        vertical-align: middle;\n",
       "    }\n",
       "\n",
       "    .dataframe tbody tr th {\n",
       "        vertical-align: top;\n",
       "    }\n",
       "\n",
       "    .dataframe thead th {\n",
       "        text-align: right;\n",
       "    }\n",
       "</style>\n",
       "<table border=\"1\" class=\"dataframe\">\n",
       "  <thead>\n",
       "    <tr style=\"text-align: right;\">\n",
       "      <th></th>\n",
       "      <th>pt1</th>\n",
       "      <th>eta1</th>\n",
       "      <th>phi1</th>\n",
       "      <th>pt2</th>\n",
       "      <th>eta2</th>\n",
       "      <th>phi2</th>\n",
       "      <th>invMass</th>\n",
       "    </tr>\n",
       "  </thead>\n",
       "  <tbody>\n",
       "    <tr>\n",
       "      <td>pt1</td>\n",
       "      <td>1.000000</td>\n",
       "      <td>-0.005495</td>\n",
       "      <td>-0.000376</td>\n",
       "      <td>-0.068503</td>\n",
       "      <td>-0.009661</td>\n",
       "      <td>-0.000184</td>\n",
       "      <td>0.279797</td>\n",
       "    </tr>\n",
       "    <tr>\n",
       "      <td>eta1</td>\n",
       "      <td>-0.005495</td>\n",
       "      <td>1.000000</td>\n",
       "      <td>0.015935</td>\n",
       "      <td>0.009975</td>\n",
       "      <td>0.665429</td>\n",
       "      <td>-0.022004</td>\n",
       "      <td>0.010426</td>\n",
       "    </tr>\n",
       "    <tr>\n",
       "      <td>phi1</td>\n",
       "      <td>-0.000376</td>\n",
       "      <td>0.015935</td>\n",
       "      <td>1.000000</td>\n",
       "      <td>0.000893</td>\n",
       "      <td>0.007323</td>\n",
       "      <td>-0.460515</td>\n",
       "      <td>-0.000727</td>\n",
       "    </tr>\n",
       "    <tr>\n",
       "      <td>pt2</td>\n",
       "      <td>-0.068503</td>\n",
       "      <td>0.009975</td>\n",
       "      <td>0.000893</td>\n",
       "      <td>1.000000</td>\n",
       "      <td>0.010027</td>\n",
       "      <td>-0.000399</td>\n",
       "      <td>0.342749</td>\n",
       "    </tr>\n",
       "    <tr>\n",
       "      <td>eta2</td>\n",
       "      <td>-0.009661</td>\n",
       "      <td>0.665429</td>\n",
       "      <td>0.007323</td>\n",
       "      <td>0.010027</td>\n",
       "      <td>1.000000</td>\n",
       "      <td>-0.023955</td>\n",
       "      <td>0.002616</td>\n",
       "    </tr>\n",
       "    <tr>\n",
       "      <td>phi2</td>\n",
       "      <td>-0.000184</td>\n",
       "      <td>-0.022004</td>\n",
       "      <td>-0.460515</td>\n",
       "      <td>-0.000399</td>\n",
       "      <td>-0.023955</td>\n",
       "      <td>1.000000</td>\n",
       "      <td>-0.015139</td>\n",
       "    </tr>\n",
       "    <tr>\n",
       "      <td>invMass</td>\n",
       "      <td>0.279797</td>\n",
       "      <td>0.010426</td>\n",
       "      <td>-0.000727</td>\n",
       "      <td>0.342749</td>\n",
       "      <td>0.002616</td>\n",
       "      <td>-0.015139</td>\n",
       "      <td>1.000000</td>\n",
       "    </tr>\n",
       "  </tbody>\n",
       "</table>\n",
       "</div>"
      ],
      "text/plain": [
       "              pt1      eta1      phi1       pt2      eta2      phi2   invMass\n",
       "pt1      1.000000 -0.005495 -0.000376 -0.068503 -0.009661 -0.000184  0.279797\n",
       "eta1    -0.005495  1.000000  0.015935  0.009975  0.665429 -0.022004  0.010426\n",
       "phi1    -0.000376  0.015935  1.000000  0.000893  0.007323 -0.460515 -0.000727\n",
       "pt2     -0.068503  0.009975  0.000893  1.000000  0.010027 -0.000399  0.342749\n",
       "eta2    -0.009661  0.665429  0.007323  0.010027  1.000000 -0.023955  0.002616\n",
       "phi2    -0.000184 -0.022004 -0.460515 -0.000399 -0.023955  1.000000 -0.015139\n",
       "invMass  0.279797  0.010426 -0.000727  0.342749  0.002616 -0.015139  1.000000"
      ]
     },
     "execution_count": 20,
     "metadata": {},
     "output_type": "execute_result"
    }
   ],
   "source": [
    "zee2 = zee[['pt1','eta1','phi1','pt2','eta2','phi2','invMass']]\n",
    "zee2.corr()"
   ]
  },
  {
   "cell_type": "code",
   "execution_count": null,
   "metadata": {},
   "outputs": [],
   "source": [
    "#eta1 and eta2 have the highest correlation with each other w/ 0.665"
   ]
  }
 ],
 "metadata": {
  "kernelspec": {
   "display_name": "Python 3",
   "language": "python",
   "name": "python3"
  },
  "language_info": {
   "codemirror_mode": {
    "name": "ipython",
    "version": 3
   },
   "file_extension": ".py",
   "mimetype": "text/x-python",
   "name": "python",
   "nbconvert_exporter": "python",
   "pygments_lexer": "ipython3",
   "version": "3.7.4"
  }
 },
 "nbformat": 4,
 "nbformat_minor": 4
}
