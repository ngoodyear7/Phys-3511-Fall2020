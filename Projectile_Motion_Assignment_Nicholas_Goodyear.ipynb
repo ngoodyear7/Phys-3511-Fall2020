{
 "cells": [
  {
   "cell_type": "markdown",
   "metadata": {},
   "source": [
    "# Projectile Motion Assignment: Due 9/21\n",
    "\n",
    "## 2D Projectile Motion with Quadratic Drag \n",
    "\n",
    "Quadratic drag term is given by $\\vec{f}_{drag} = -cv\\vec{v}$. This leads to equations of motion in the horizontal ($x$) and vertical ($y$) directions given by \n",
    "\n",
    "* $m v_{x}' = -\\left(c\\sqrt{v^2_x +v^2_y}\\right)v_x$\n",
    "\n",
    "* $m v_{y}' = - mg - \\left(c\\sqrt{v^2x + v^2_y}) \\right)v_y$\n",
    "\n",
    "* $x' = v_x$\n",
    "\n",
    "* $y' = v_y$\n",
    "\n",
    ",where $'$ is a time derivative."
   ]
  },
  {
   "cell_type": "markdown",
   "metadata": {},
   "source": [
    "## Problem\n",
    "\n",
    "To get an accurate trajectory for a projectile one must often take account of several complications. For example, if a projectile goes very high then we have to allow for the reduction in air resistance as atmospheric density decreases. To illustrate this, consider an iron cannonball (diameter, $D = 15\\;cm$, density $\\rho = 7.8\\;g/cm^3$) that is fired with initial velocity $300 m/s$ at 50 degrees above the horizontal. The drag force is approximately quadratic, but since the drag is proportional to the atmospheric density and the density falls off exponentially with height, the drag force is $f = c(y) v^2$ where $c(y) = \\gamma D^2 exp(-y/\\lambda)$ with $\\gamma$ given as $0.25\\;N\\cdot s^2/m^4$ and $\\lambda = 10,000\\;m$. "
   ]
  },
  {
   "cell_type": "markdown",
   "metadata": {},
   "source": [
    "# Part a)\n",
    "\n",
    "Ignoring air resistance completely, write down the equations of motion for the cannonball (use the markup feature in Jupyter notbook and latex (https://en.wikibooks.org/wiki/LaTeX/Mathematics)) "
   ]
  },
  {
   "cell_type": "markdown",
   "metadata": {},
   "source": [
    "* $v'_x = 0$\n",
    "* $v'_y = -g$\n",
    "* $x' = v_x$\n",
    "* $y' = v_y$"
   ]
  },
  {
   "cell_type": "markdown",
   "metadata": {},
   "source": [
    "Code the equations into a function "
   ]
  },
  {
   "cell_type": "code",
   "execution_count": 1,
   "metadata": {},
   "outputs": [],
   "source": [
    "#define projectile motion function in vaccum\n",
    "import numpy as np\n",
    "from scipy import integrate\n",
    "import matplotlib.pyplot as plt\n",
    "import math\n",
    "%matplotlib notebook\n",
    "\n",
    "g = 9.81\n",
    "def proj_vac(t,y):\n",
    "    dx_dt = y[2]\n",
    "    dy_dt = y[3]\n",
    "    dvx_dt = 0.0\n",
    "    dvy_dt= -g\n",
    "    return np.array((dx_dt,dy_dt,dvx_dt,dvy_dt))"
   ]
  },
  {
   "cell_type": "code",
   "execution_count": 31,
   "metadata": {},
   "outputs": [],
   "source": [
    "vx0 = 300.0 *np.cos(50*np.pi/180)\n",
    "vy0 = 300.0 *np.sin(50*np.pi/180)\n",
    "x0 = 0.0001\n",
    "y0 = 0.0001\n",
    "t0 = 0\n",
    "tf = 3.5\n",
    "init_params = [x0,y0,vx0,vy0]\n",
    "t_eval = np.linspace(t0,tf,10000)"
   ]
  },
  {
   "cell_type": "markdown",
   "metadata": {},
   "source": [
    "Using Scipy (*RK4(5)* method) solve numerically $x(t)$ and $y(t)$ for $0 \\le t \\le 3.5\\;s$"
   ]
  },
  {
   "cell_type": "code",
   "execution_count": 32,
   "metadata": {},
   "outputs": [],
   "source": [
    "sol_RK45 = integrate.solve_ivp(proj_vac,(t0,tf),init_params,method='RK45',t_eval=t_eval)"
   ]
  },
  {
   "cell_type": "markdown",
   "metadata": {},
   "source": [
    "Plot the ball's trajectory (vertical vs. horizontal positions) and find it's horizontal range"
   ]
  },
  {
   "cell_type": "code",
   "execution_count": 33,
   "metadata": {
    "scrolled": true
   },
   "outputs": [
    {
     "data": {
      "text/plain": [
       "[<matplotlib.lines.Line2D at 0x231f6e13488>]"
      ]
     },
     "execution_count": 33,
     "metadata": {},
     "output_type": "execute_result"
    },
    {
     "data": {
      "image/png": "[encoded data removed]",
      "text/plain": [
       "<Figure size 432x288 with 1 Axes>"
      ]
     },
     "metadata": {
      "needs_background": "light"
     },
     "output_type": "display_data"
    }
   ],
   "source": [
    "fig = plt.figure(\"Scipy\")\n",
    "ax = fig.add_axes([0.2,0.2,0.7,0.7])\n",
    "\n",
    "ax.plot(sol_RK45.y[0],sol_RK45.y[1])\n",
    "\n",
    "#Ball travels a little under 10000 m before hitting the ground"
   ]
  },
  {
   "cell_type": "markdown",
   "metadata": {},
   "source": [
    "# Part b)\n",
    "\n",
    "Write your own Runge-Kutta order 4 function and use it to solve Part a) [Meaning do not use Scipy for this part]."
   ]
  },
  {
   "cell_type": "code",
   "execution_count": 18,
   "metadata": {},
   "outputs": [],
   "source": [
    "def rungekutta_4(f,t,x0):\n",
    "    n = len(t)\n",
    "    x = np.zeros((n,len(x0)))\n",
    "    x[0] = x0\n",
    "    for i in range(0,n-1):\n",
    "        dt = t[i+1]-t[i]\n",
    "        k1 = f(t[i],x[i])\n",
    "        k2 = f(t[i]+dt/2.0,x[i]+dt/2.0*k1)\n",
    "        k3 = f(t[i]+dt/2.0,x[i]+dt/2.0*k2)\n",
    "        k4 = f(t[i]+dt,x[i]+dt*k3)\n",
    "        x[i+1] = x[i] + (dt/6.0)*(k1 +2*k2 +2*k3 + k4)\n",
    "    return x"
   ]
  },
  {
   "cell_type": "code",
   "execution_count": 25,
   "metadata": {},
   "outputs": [
    {
     "data": {
      "text/plain": [
       "array([[1.00000000e-04, 1.00000000e-04, 1.92836283e+02, 2.29813333e+02],\n",
       "       [6.75026990e-01, 8.04386579e-01, 1.92836283e+02, 2.29778998e+02],\n",
       "       [1.34995398e+00, 1.60855299e+00, 1.92836283e+02, 2.29744663e+02],\n",
       "       ...,\n",
       "       [6.73577236e+02, 7.42891927e+02, 1.92836283e+02, 1.95547003e+02],\n",
       "       [6.74252163e+02, 7.43576281e+02, 1.92836283e+02, 1.95512668e+02],\n",
       "       [6.74927090e+02, 7.44260515e+02, 1.92836283e+02, 1.95478333e+02]])"
      ]
     },
     "execution_count": 25,
     "metadata": {},
     "output_type": "execute_result"
    }
   ],
   "source": [
    "t = np.linspace(t0,tf,1001)\n",
    "sol_rk4_1 = rungekutta_4(proj_vac,t,init_params)\n",
    "sol_rk4_1"
   ]
  },
  {
   "cell_type": "code",
   "execution_count": 26,
   "metadata": {},
   "outputs": [
    {
     "data": {
      "text/plain": [
       "[<matplotlib.lines.Line2D at 0x231f6c98988>]"
      ]
     },
     "execution_count": 26,
     "metadata": {},
     "output_type": "execute_result"
    },
    {
     "data": {
      "image/png": "[encoded data removed]",
      "text/plain": [
       "<Figure size 432x288 with 1 Axes>"
      ]
     },
     "metadata": {
      "needs_background": "light"
     },
     "output_type": "display_data"
    }
   ],
   "source": [
    "fig = plt.figure()\n",
    "ax = fig.add_axes([0.2,0.2,0.7,0.7])\n",
    "ax.plot(sol_rk4_1[:,0],sol_rk4_1[:,1],'b', label=r'$n = 1001 points$')"
   ]
  },
  {
   "cell_type": "markdown",
   "metadata": {},
   "source": [
    "#### How does your Runge-Kutta 4th order evaluation compare to Scipy's *RK4(5)* method?"
   ]
  },
  {
   "cell_type": "markdown",
   "metadata": {},
   "source": [
    "# Part c)\n",
    "\n",
    "Now include air resistance, but ignore the variation of atmospheric pressure [that is  treat $c(y)$ as a constant  that does not change with position, where $c = \\gamma D^2$].\n",
    "\n",
    "Write down the equations of motion (use the markup feature in Jupyter notbook and latex)"
   ]
  },
  {
   "cell_type": "markdown",
   "metadata": {},
   "source": [
    "* $v'_x = \\left(\\left((\\gamma D^2\\sqrt{v_x^2+v_y^2}\\right)v_x\\right)/m$\n",
    "* $v'_y = \\left(-g -\\left(\\gamma D^2\\sqrt{v_x^2+v_y^2}\\right)v_y\\right)/m$\n",
    "* $x' = v_x$ \n",
    "* $y' = v_y$"
   ]
  },
  {
   "cell_type": "markdown",
   "metadata": {},
   "source": [
    "Code the equations into a function"
   ]
  },
  {
   "cell_type": "code",
   "execution_count": 8,
   "metadata": {},
   "outputs": [],
   "source": [
    "g = 9.81\n",
    "gamma = 0.25\n",
    "D = 0.15\n",
    "phi = 7800\n",
    "m = 4/3 * np.pi * (D/2)**3 * phi\n",
    "def proj_vac_const_c(t,y):\n",
    "    dx_dt = y[2]\n",
    "    dy_dt = y[3]\n",
    "    dvx_dt = (gamma * D**2 * np.sqrt(y[2]**2+y[3]**2)*y[2])/m\n",
    "    dvy_dt = (-m*g - (gamma * D**2 * np.sqrt(y[2]**2+y[3]**2)*y[3]))/m\n",
    "    return np.array((dx_dt,dy_dt,dvx_dt,dvy_dt))\n",
    "vx0 = 300.0 *np.cos(50.0*np.pi/180.0)\n",
    "vy0 = 300.0 *np.sin(50.0*np.pi/180.0)\n",
    "x0 = 0.0001\n",
    "y0 = 0.0001\n",
    "t0 = 0\n",
    "tf = 3.5\n",
    "init_params = [x0,y0,vx0,vy0]\n",
    "t_span = np.linspace(t0,tf,10000)"
   ]
  },
  {
   "cell_type": "markdown",
   "metadata": {},
   "source": [
    "Use Scipy (*RK4(5)* method) to solve numerically $x(t)$ and $y(t)$ for $0\\le t \\le 3.5\\;s$"
   ]
  },
  {
   "cell_type": "code",
   "execution_count": 9,
   "metadata": {},
   "outputs": [],
   "source": [
    "sol_RK45_c = integrate.solve_ivp(proj_vac_const_c,(t0,tf),init_params,method='RK45', t_eval=t_span)"
   ]
  },
  {
   "cell_type": "markdown",
   "metadata": {},
   "source": [
    "Plot the ball's trajecory and find it's horizontal range"
   ]
  },
  {
   "cell_type": "code",
   "execution_count": 10,
   "metadata": {},
   "outputs": [
    {
     "data": {
      "text/plain": [
       "[<matplotlib.lines.Line2D at 0x231f571edc8>]"
      ]
     },
     "execution_count": 10,
     "metadata": {},
     "output_type": "execute_result"
    },
    {
     "data": {
      "image/png": "[encoded data removed]",
      "text/plain": [
       "<Figure size 432x288 with 1 Axes>"
      ]
     },
     "metadata": {
      "needs_background": "light"
     },
     "output_type": "display_data"
    }
   ],
   "source": [
    "fig = plt.figure(\"Scipy\")\n",
    "ax = fig.add_axes([0.2,0.2,0.7,0.7])\n",
    "\n",
    "ax.plot(sol_RK45_c.y[0],sol_RK45_c.y[1])\n",
    "\n",
    "#running into an issue where the ball doesn't come back down.\n",
    "#the path up looks normal but once the ball hits the zenith,\n",
    "#it doesn't come back down, therefore finding horizontal range cannot be done"
   ]
  },
  {
   "cell_type": "markdown",
   "metadata": {},
   "source": [
    "# Part d)\n",
    "\n",
    "Now include the drag term with the atmospheric variation included [meaning $c(y) = \\gamma D^2exp(-y/\\lambda)$]\n",
    "\n",
    "Write down the equations of motion (use the markup feature in Jupyter notbook and latex)"
   ]
  },
  {
   "cell_type": "markdown",
   "metadata": {},
   "source": [
    "* $v'_x = \\left(\\gamma D^2 exp\\left(-y/\\lambda\\right)\\sqrt{v_x^2+v_y^2}\\right)v_x$\n",
    "* $v'_y = -g -\\left(\\gamma D^2 exp\\left(-y/\\lambda\\right)\\sqrt{v_x^2+v_y^2}\\right)v_y$\n",
    "* $x' = v_x$ \n",
    "* $y' = v_y$"
   ]
  },
  {
   "cell_type": "markdown",
   "metadata": {},
   "source": [
    "Code the equations into a function"
   ]
  },
  {
   "cell_type": "code",
   "execution_count": 11,
   "metadata": {},
   "outputs": [],
   "source": [
    "g = 9.81\n",
    "gamma = 0.25\n",
    "D = 0.15\n",
    "phi = 7800\n",
    "lmbda = 10000 \n",
    "m = 4/3 * np.pi * (D/2)**3 * phi\n",
    "def proj_vac_atms(t,y):\n",
    "    dx_dt = y[2]\n",
    "    dy_dt = y[3]\n",
    "    dvx_dt = (gamma * D**2 *np.exp(-y[1]/lmbda) * np.sqrt(y[2]**2+y[3]**2)*y[2])/m\n",
    "    dvy_dt = (-m*g - (gamma * D**2 * np.exp(-y[1]/lmbda) * np.sqrt(y[2]**2+y[3]**2)*y[3]))/m\n",
    "    return np.array((dx_dt,dy_dt,dvx_dt,dvy_dt))\n",
    "vx0 = 300.0 *np.cos(50.0*np.pi/180.0)\n",
    "vy0 = 300.0 *np.sin(50.0*np.pi/180.0)\n",
    "x0 = 0.0001\n",
    "y0 = 0.0001\n",
    "t0 = 0\n",
    "tf = 3.5\n",
    "init_params = [x0,y0,vx0,vy0]\n",
    "t_span = np.linspace(t0,tf,10000)"
   ]
  },
  {
   "cell_type": "markdown",
   "metadata": {},
   "source": [
    "Use Scipy (*RK4(5)* method) to solve numerically $x(t)$ and $y(t)$ for $0\\le t \\le 3.5\\;s$"
   ]
  },
  {
   "cell_type": "code",
   "execution_count": 12,
   "metadata": {},
   "outputs": [],
   "source": [
    "sol_RK45_atms = integrate.solve_ivp(proj_vac_atms,(t0,tf),init_params,method='RK45', t_eval=t_span)"
   ]
  },
  {
   "cell_type": "markdown",
   "metadata": {
    "slideshow": {
     "slide_type": "slide"
    }
   },
   "source": [
    "Plot the ball's trajectory and find it's horizontal range"
   ]
  },
  {
   "cell_type": "code",
   "execution_count": 16,
   "metadata": {},
   "outputs": [
    {
     "data": {
      "text/plain": [
       "[<matplotlib.lines.Line2D at 0x231f6a36ec8>]"
      ]
     },
     "execution_count": 16,
     "metadata": {},
     "output_type": "execute_result"
    },
    {
     "data": {
      "image/png": "[encoded data removed]",
      "text/plain": [
       "<Figure size 432x288 with 1 Axes>"
      ]
     },
     "metadata": {
      "needs_background": "light"
     },
     "output_type": "display_data"
    }
   ],
   "source": [
    "fig = plt.figure(\"Scipy\")\n",
    "ax = fig.add_axes([0.2,0.2,0.7,0.7])\n",
    "\n",
    "ax.plot(sol_RK45_atms.y[0],sol_RK45_atms.y[1])\n",
    "\n",
    "#running into an issue where the ball doesn't come back down.\n",
    "#the path up looks normal but once the ball hits the zenith,\n",
    "#it doesn't come back down, therefore finding horizontal range cannot be done"
   ]
  },
  {
   "cell_type": "markdown",
   "metadata": {},
   "source": [
    "# Part e)\n",
    "\n",
    "Plot the trajectories from parts a), c), and d) on the same plot."
   ]
  },
  {
   "cell_type": "code",
   "execution_count": 14,
   "metadata": {},
   "outputs": [
    {
     "data": {
      "text/plain": [
       "<matplotlib.legend.Legend at 0x231f5805bc8>"
      ]
     },
     "execution_count": 14,
     "metadata": {},
     "output_type": "execute_result"
    },
    {
     "data": {
      "image/png": "[encoded data removed]",
      "text/plain": [
       "<Figure size 432x288 with 1 Axes>"
      ]
     },
     "metadata": {
      "needs_background": "light"
     },
     "output_type": "display_data"
    }
   ],
   "source": [
    "fig = plt.figure()\n",
    "ax = fig.add_axes([0.5,0.5,1.7,1.7])\n",
    "ax.plot(sol_RK45.y[0],sol_RK45.y[1],label='vacuum')\n",
    "ax.plot(sol_RK45_c.y[0],sol_RK45_c.y[1],label='constant c')\n",
    "ax.plot(sol_RK45_atms.y[0],sol_RK45_atms.y[1],label='atmospheric variation')\n",
    "ax.legend()"
   ]
  },
  {
   "cell_type": "markdown",
   "metadata": {},
   "source": [
    "Which impacts the motion more: turning on air resistance (i.e with $c(0)$) or turning on the variation with atmosphere (i.e. $c(y)$)"
   ]
  },
  {
   "cell_type": "markdown",
   "metadata": {},
   "source": [
    "Nick: Turning on variation with atmosphere affects it more."
   ]
  },
  {
   "cell_type": "code",
   "execution_count": null,
   "metadata": {},
   "outputs": [],
   "source": []
  }
 ],
 "metadata": {
  "kernelspec": {
   "display_name": "Python 3",
   "language": "python",
   "name": "python3"
  },
  "language_info": {
   "codemirror_mode": {
    "name": "ipython",
    "version": 3
   },
   "file_extension": ".py",
   "mimetype": "text/x-python",
   "name": "python",
   "nbconvert_exporter": "python",
   "pygments_lexer": "ipython3",
   "version": "3.7.4"
  }
 },
 "nbformat": 4,
 "nbformat_minor": 4
}
