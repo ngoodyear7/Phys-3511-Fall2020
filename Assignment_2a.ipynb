{
 "cells": [
  {
   "cell_type": "markdown",
   "metadata": {},
   "source": [
    "# Assignment 2a Due\n",
    "\n",
    "In this assigment you will explore and become familiar with writing and using algorithms to numerically approxomate definite integrals.\n",
    "\n",
    "Assignment Overview:\n",
    "* Impliment your own midpoint, trapazoid, and Simpson's rule integration algorithms\n",
    "* Use those to solve a definite integral\n",
    "* Compare your algorithms to those from scipy\n",
    "* Compare all approximate solutions to the exact solutions\n"
   ]
  },
  {
   "cell_type": "markdown",
   "metadata": {},
   "source": [
    "You can import only the following packages: numpy, math, scipy, matplotlib.pyplot"
   ]
  },
  {
   "cell_type": "code",
   "execution_count": 3,
   "metadata": {},
   "outputs": [],
   "source": [
    "import numpy as np\n",
    "import math\n",
    "import scipy as sci\n",
    "import matplotlib.pyplot as plt"
   ]
  },
  {
   "cell_type": "markdown",
   "metadata": {},
   "source": [
    "Now we can define our integration algorithms"
   ]
  },
  {
   "cell_type": "code",
   "execution_count": 4,
   "metadata": {},
   "outputs": [],
   "source": [
    "def midpoint(f,x0,xn,n):\n",
    "    dx = (xn-x0)/float(n)\n",
    "    area = dx*math.fsum(f(x0 + (i+0.5)*dx) for i in range (0,n))\n",
    "    return area"
   ]
  },
  {
   "cell_type": "code",
   "execution_count": 5,
   "metadata": {},
   "outputs": [],
   "source": [
    "def trap(f,x0,xn,n):\n",
    "    dx = (xn-x0)/float(n)\n",
    "    #area = 0.5*dx*math.fsum(2*f(x0 + i*dx) for i in range (1,n))\n",
    "    #area += 0.5*dx*(f(x0) + f(xn))\n",
    "    area = dx*math.fsum(0.5*(f(x0 +i*dx) + f(x0 + (i+1)*dx)) for i in range (0,n))\n",
    "    return area"
   ]
  },
  {
   "cell_type": "code",
   "execution_count": 6,
   "metadata": {},
   "outputs": [],
   "source": [
    "def simp(f,x0,xn,n):\n",
    "    dx = (xn-x0)/float(n)\n",
    "    s_odd = 0\n",
    "    s_even = 0\n",
    "    for i in range (1,n,2):\n",
    "        s_odd += 4*f(x0 + i*dx) \n",
    "    for j in range (2,n-1,2):\n",
    "        s_even += 2*f(x0 + j*dx) \n",
    "    area = (dx/3.0)*(f(x0) + s_even + s_odd + f(xn))\n",
    "    return area\n"
   ]
  },
  {
   "cell_type": "markdown",
   "metadata": {},
   "source": [
    "# Question \n",
    "Sanity checking your code is very important. How can you check that your functions are working properly?"
   ]
  },
  {
   "cell_type": "markdown",
   "metadata": {},
   "source": [
    "Can check these functions against an actual solution from scipy. When integrating using these methods increasing the number of partitions to a large value will give answers close to the actual solution. If the functions aren't working properly, the approximated answer won't converge upon the real solution."
   ]
  },
  {
   "cell_type": "markdown",
   "metadata": {},
   "source": [
    "For this notebook assigment we would like to solve the integral\\\n",
    "$\\int_{a}^{b} \\frac{2}{(2^2 + x^2)^{3/2}}dx$"
   ]
  },
  {
   "cell_type": "markdown",
   "metadata": {},
   "source": [
    "# Question\n",
    "Have you seen an integral like this before in physics? From where?"
   ]
  },
  {
   "cell_type": "markdown",
   "metadata": {},
   "source": [
    "Unsure (I haven't had a physics class in a few years). "
   ]
  },
  {
   "cell_type": "markdown",
   "metadata": {},
   "source": [
    "Solve the above integral using the numerical integrations that you wrote. When defining the function we will integrate over do so using python's **lambda** function.\n",
    "\n",
    "For the integration take $a = 0,\\; b = 2,\\;$ and we will split it up into 6 partitions."
   ]
  },
  {
   "cell_type": "markdown",
   "metadata": {},
   "source": [
    "# Question\n",
    "What is the exact solution?"
   ]
  },
  {
   "cell_type": "code",
   "execution_count": 10,
   "metadata": {},
   "outputs": [
    {
     "name": "stdout",
     "output_type": "stream",
     "text": [
      "sci_quad:  (0.3535533905932738, 3.925231146709438e-15)\n",
      "exact solution:  0.3535533905932738\n"
     ]
    }
   ],
   "source": [
    "f = lambda x: 2/((2**2+x**2)**(3/2))\n",
    "x0 = 0\n",
    "xn = 2\n",
    "n = 6\n",
    "dx = float((xn-x0)/n)\n",
    "integrate q\n",
    "from scipy import integrate\n",
    "sci_quad = integrate.quad(f,x0,xn)\n",
    "print('sci_quad: ', sci_quad )\n",
    "exact_solution = sci_quad[0]\n",
    "print(\"exact solution: \", exact_solution)"
   ]
  },
  {
   "cell_type": "code",
   "execution_count": 20,
   "metadata": {},
   "outputs": [
    {
     "name": "stdout",
     "output_type": "stream",
     "text": [
      "My trapezoidal approximation:  0.35293994641413146\n",
      "My simpson approxation:  0.3535517906244493\n"
     ]
    }
   ],
   "source": [
    "print('My trapezoidal approximation: ', trap(f,x0,xn,n))\n",
    "print('My simpson approxation: ', simp(f,x0,xn,n))"
   ]
  },
  {
   "cell_type": "markdown",
   "metadata": {},
   "source": [
    "Use the trapz and simps methods from scipy's integration library to solve the integral.\n",
    "\n",
    "Note: Shit+tab at the end of a function in jupyter notebook reveals lots of information about the function."
   ]
  },
  {
   "cell_type": "code",
   "execution_count": 21,
   "metadata": {},
   "outputs": [
    {
     "name": "stdout",
     "output_type": "stream",
     "text": [
      "sci_trap:  0.35293994641413146\n",
      "sci_simp:  0.35355179062444925\n"
     ]
    }
   ],
   "source": [
    "xs = np.linspace(x0,xn,n+1)\n",
    "ys = 2/((2**2+xs**2)**(3/2))\n",
    "sci_trap = sci.integrate.trapz(ys,xs,dx)\n",
    "sci_simp = sci.integrate.simps(ys,xs)\n",
    "print('sci_trap: ',sci_trap)\n",
    "print('sci_simp: ',sci_simp)"
   ]
  },
  {
   "cell_type": "markdown",
   "metadata": {},
   "source": [
    "# Question\n",
    "How do scipy integrals compare to yours? Support your answer. "
   ]
  },
  {
   "cell_type": "markdown",
   "metadata": {},
   "source": []
  },
  {
   "cell_type": "code",
   "execution_count": 23,
   "metadata": {},
   "outputs": [
    {
     "name": "stdout",
     "output_type": "stream",
     "text": [
      "sci_trap:  0.35293994641413146 my_trap:  0.35293994641413146\n",
      "sci_simp:  0.35355179062444925 my_simp:  0.3535517906244493\n"
     ]
    }
   ],
   "source": [
    "print('sci_trap: ', sci_trap, 'my_trap: ',trap(f,x0,xn,n))\n",
    "print('sci_simp: ',sci_simp, 'my_simp: ',simp(f,x0,xn,n))\n"
   ]
  },
  {
   "cell_type": "markdown",
   "metadata": {},
   "source": [
    "Numerically compare your midpoint, trapazoid, and Simpson method results to the exact value by calculating the quantity (approx - exact) / exact for each method. "
   ]
  },
  {
   "cell_type": "code",
   "execution_count": 28,
   "metadata": {},
   "outputs": [
    {
     "name": "stdout",
     "output_type": "stream",
     "text": [
      "0.08671529489315273\n",
      "-0.17350821558038287\n",
      "-0.00045253952219184745\n"
     ]
    }
   ],
   "source": [
    "midpoint_comp = 100*(midpoint(f,x0,xn,n) - exact_solution)/exact_solution\n",
    "trapezoid_comp = 100*(trap(f,x0,xn,n)-exact_solution)/exact_solution\n",
    "simp_comp = 100*(simp(f,x0,xn,n)-exact_solution)/exact_solution\n",
    "\n",
    "print(midpoint_comp)\n",
    "print(trapezoid_comp)\n",
    "print(simp_comp)"
   ]
  },
  {
   "cell_type": "markdown",
   "metadata": {},
   "source": [
    "# Question\n",
    "Which method provides the best approximation to the exact solution?"
   ]
  },
  {
   "cell_type": "markdown",
   "metadata": {},
   "source": [
    "Simpson's approximation provides the closest approximation of the three, with the midpoint method being second closest."
   ]
  },
  {
   "cell_type": "markdown",
   "metadata": {},
   "source": [
    "It is often useful to represent the data graphically. Make a scatter plot showing the percent difference $100 \\times \\frac{approx. - exact}{exact}$ vs. integration method. Integration method on your x-axis should be strings such as *midpoint, trapazoid, and Simpson*. You should also draw on your plot a line at *y = 0*, which will help guide the eye where the perfect approximation (the exact solution) would sit. "
   ]
  },
  {
   "cell_type": "code",
   "execution_count": 41,
   "metadata": {},
   "outputs": [
    {
     "data": {
      "text/plain": [
       "<matplotlib.lines.Line2D at 0x26d20090d08>"
      ]
     },
     "execution_count": 41,
     "metadata": {},
     "output_type": "execute_result"
    },
    {
     "data": {
      "image/png": "[encoded data removed]",
      "text/plain": [
       "<Figure size 432x288 with 1 Axes>"
      ]
     },
     "metadata": {
      "needs_background": "light"
     },
     "output_type": "display_data"
    }
   ],
   "source": [
    "approximations = [midpoint_comp, trapezoid_comp, simp_comp]\n",
    "methods = [\"midpoint\",\"trapezoid\",'simpson\\'s']\n",
    "zeroLine = [0,0,0]\n",
    "plt.plot(methods, approximations, \"ro\")\n",
    "plt.axhline(y=0,color='k',linestyle='-')"
   ]
  },
  {
   "cell_type": "markdown",
   "metadata": {},
   "source": [
    "Using the scipy *quad* integration method, approximate the following integral\n",
    "\n",
    "$$\\int_{-\\infty}^{\\infty} e^{-x^{2}} dx$$\n",
    "\n",
    "Hint: Reference <a href=\"https://numpy.org/\">numpy</a> and see what it has to offer in terms of functions and *special* values"
   ]
  },
  {
   "cell_type": "code",
   "execution_count": 47,
   "metadata": {},
   "outputs": [
    {
     "data": {
      "text/plain": [
       "(1.7724538509055159, 1.4202636756659625e-08)"
      ]
     },
     "execution_count": 47,
     "metadata": {},
     "output_type": "execute_result"
    }
   ],
   "source": [
    "f = lambda x: math.exp(-x**2)\n",
    "x0 = -np.inf\n",
    "xn = np.inf\n",
    "integrate.quad(f,x0,xn)\n"
   ]
  },
  {
   "cell_type": "markdown",
   "metadata": {},
   "source": [
    "# Question\n",
    "If you square your solution, does the resulting number have any special meaning?"
   ]
  },
  {
   "cell_type": "markdown",
   "metadata": {},
   "source": [
    "This value squared is equal to pi. This integral is an integral of the Gaussian function."
   ]
  }
 ],
 "metadata": {
  "kernelspec": {
   "display_name": "Python 3",
   "language": "python",
   "name": "python3"
  },
  "language_info": {
   "codemirror_mode": {
    "name": "ipython",
    "version": 3
   },
   "file_extension": ".py",
   "mimetype": "text/x-python",
   "name": "python",
   "nbconvert_exporter": "python",
   "pygments_lexer": "ipython3",
   "version": "3.7.4"
  }
 },
 "nbformat": 4,
 "nbformat_minor": 4
}
