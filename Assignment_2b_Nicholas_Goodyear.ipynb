{
 "cells": [
  {
   "cell_type": "markdown",
   "metadata": {},
   "source": [
    "# Assignment 2b Due: 9/14"
   ]
  },
  {
   "cell_type": "markdown",
   "metadata": {},
   "source": [
    "Please submit this assignment as Assignment2b_FirstName_LastName\n",
    "\n",
    "In this assignment you will explore fitting data and assessing how well your fit describes the different data sets.\n",
    "\n",
    "Assignment Overview:\n",
    "* Fit data and use $\\chi^2$ and the $\\chi^2$ test to assess \n",
    "* Analyze the efficiency of your data provided differnt threshold levels using your fit results \n",
    "\n",
    "For this assingment you can make use of the numpy, matplotlib, and the scipy packages."
   ]
  },
  {
   "cell_type": "code",
   "execution_count": 1,
   "metadata": {},
   "outputs": [],
   "source": [
    "import numpy as np\n",
    "import matplotlib.pyplot as plt\n",
    "from scipy import optimize\n",
    "from scipy.optimize import curve_fit\n",
    "import scipy.special as sf\n",
    "import math"
   ]
  },
  {
   "cell_type": "markdown",
   "metadata": {},
   "source": [
    "# Problem 1: W Boson Mass\n",
    "\n",
    "Finding the *true* values of a quantity relies on analyzing results for many experiments. One quantity that has been measured many times is the W boson mass see Wikipedia https://en.wikipedia.org/wiki/W_and_Z_bosons and the particle data group (PDG) https://pdg.lbl.gov/2018/listings/rpp2018-list-w-boson.pdf \n",
    "\n",
    "**a)** In this problem you will analyze measurements of the W boson from various experiments and determine if the values are consistnet and given this data set, what the best fit value is. Start by reading in the data file Wmass_data.txt, which contains an experiment number, W mass in units of $GeV/c^2$ and its uncertainty.\n"
   ]
  },
  {
   "cell_type": "code",
   "execution_count": 2,
   "metadata": {},
   "outputs": [],
   "source": [
    "expNum, W, W_uncertainty = np.loadtxt('data/Wmass_data.txt', unpack=True)"
   ]
  },
  {
   "cell_type": "markdown",
   "metadata": {},
   "source": [
    "**b)** Compute the error weighted mean of the W mass and its uncertainty. How does the weighted mean compare to the bold faced average of the PDG?"
   ]
  },
  {
   "cell_type": "code",
   "execution_count": 3,
   "metadata": {},
   "outputs": [
    {
     "name": "stdout",
     "output_type": "stream",
     "text": [
      "80.37914612783635\n",
      "0.010338187803490969\n"
     ]
    }
   ],
   "source": [
    "num=0\n",
    "numSum=0\n",
    "weight=0\n",
    "weightSum=0\n",
    "for boson_meas,error in zip(W,W_uncertainty):\n",
    "    weight = 1/(error**2)\n",
    "    num = boson_meas*weight\n",
    "    numSum = numSum + num\n",
    "    weightSum = weightSum+ weight\n",
    "weightedMean = numSum/weightSum\n",
    "uncertainty = math.sqrt(1/weightSum)\n",
    "print(weightedMean)\n",
    "print(uncertainty)\n",
    "\n",
    "#PDG measurement is equivalent to average in PDG"
   ]
  },
  {
   "cell_type": "markdown",
   "metadata": {},
   "source": [
    "**c)** Calculate the $\\chi^2$, degrees of freedom, reduced $\\chi^2$, and p-value. The p-value can be calculated using *gammaincc(dof / 2.0, chisq / 2.0)* from *scipy.special*. Based on the p-value are the data consistant?"
   ]
  },
  {
   "cell_type": "code",
   "execution_count": 4,
   "metadata": {},
   "outputs": [
    {
     "name": "stdout",
     "output_type": "stream",
     "text": [
      "W Results:\n",
      "\n",
      "chisq =  8.707036304862834 \n",
      "dof =  8 \n",
      "reduced chisq =  1.0883795381078543 \n",
      "p-value =  0.6323904359219094\n"
     ]
    }
   ],
   "source": [
    "chisq = np.sum((W-80.379)**2/W_uncertainty**2)\n",
    "dof = len(W) - 1\n",
    "reducedChisq = chisq/dof\n",
    "pValue = sf.gammainc(dof/2.0, chisq/2.0)\n",
    "\n",
    "print('W Results:\\n')\n",
    "print('chisq = ',chisq, '\\ndof = ',dof, '\\nreduced chisq = ',reducedChisq,'\\np-value = ',pValue)"
   ]
  },
  {
   "cell_type": "markdown",
   "metadata": {},
   "source": [
    "Nick: The data are not consistent based on the p-value"
   ]
  },
  {
   "cell_type": "markdown",
   "metadata": {},
   "source": [
    "**d)** Plot the measurement number vs. the W mass. Don't forget to include the error bars on the W mass measurements. Then Fit a line of the form $y = p_0$, where $p_0$ is a constant parameter.\n",
    "\n",
    "How does your $p_0$ value compare to the weighted mean you calculated earlier in part b)?"
   ]
  },
  {
   "cell_type": "code",
   "execution_count": 5,
   "metadata": {},
   "outputs": [
    {
     "name": "stdout",
     "output_type": "stream",
     "text": [
      "p0 = 80.39080486176063\n"
     ]
    },
    {
     "data": {
      "image/png": "[encoded data removed]",
      "text/plain": [
       "<Figure size 432x288 with 1 Axes>"
      ]
     },
     "metadata": {
      "needs_background": "light"
     },
     "output_type": "display_data"
    }
   ],
   "source": [
    "fig = plt.figure()\n",
    "axes = fig.add_axes([0.1,0.1,0.8,0.8])\n",
    "axes.errorbar(expNum, W, yerr = W_uncertainty, fmt='.',label = 'Data')\n",
    "axes.plot(expNum,W)\n",
    "\n",
    "\n",
    "def best_fit_intercept(x,y):\n",
    "    m = (((np.mean(x)*np.mean(y))-np.mean(x*y))/((np.mean(x)*np.mean(y))- np.mean(x*x)))\n",
    "    b = np.mean(y)-m*np.mean(x)\n",
    "    return b\n",
    "p0 = best_fit_intercept(expNum,W)\n",
    "plt.axhline(y =p0 ,color='k')\n",
    "print('p0 =', p0)"
   ]
  },
  {
   "cell_type": "markdown",
   "metadata": {},
   "source": [
    "p0 is somewhat close to the mean calculated in part b, a 0.0146% difference, though this difference is significant when calculating a value like this."
   ]
  },
  {
   "cell_type": "markdown",
   "metadata": {},
   "source": [
    "# Problem 2: Proton Charge Radius\n",
    "\n",
    "We will carry an identical analysis as we did in Problem 1, but on a different quantity, the proton charge radius. The proton charge radius has been a recent hot topic in the nuclear physics field, as new designed experiments using muonic hydorgen have made very percise measurements of it. See https://www.nature.com/articles/s41586-019-1721-2\n",
    "\n",
    "**a)** Import the data set proton_radius_data.txt, which includes the experiment number, the proton charge radius, and its uncertainty measured in $fm$. "
   ]
  },
  {
   "cell_type": "code",
   "execution_count": 6,
   "metadata": {},
   "outputs": [],
   "source": [
    "expNumPro, proCharge, pc_uncertainty = np.loadtxt('data/proton_radius_data.txt', unpack=True)"
   ]
  },
  {
   "cell_type": "markdown",
   "metadata": {},
   "source": [
    "**b)** Compute the error weighted mean of the proton charge radius and its uncertainty. \n",
    "\n",
    "You can also compare this to the PDG value (pgs. 6 and 7): https://pdg.lbl.gov/2018/listings/rpp2018-list-p.pdf "
   ]
  },
  {
   "cell_type": "code",
   "execution_count": 18,
   "metadata": {},
   "outputs": [
    {
     "name": "stdout",
     "output_type": "stream",
     "text": [
      "0.8416225242550589\n",
      "0.0003337320304863616\n"
     ]
    }
   ],
   "source": [
    "num=0\n",
    "numSum=0\n",
    "weight=0\n",
    "weightSum=0\n",
    "for pro_meas,error in zip(proCharge,pc_uncertainty):\n",
    "    weight = 1/(error**2)\n",
    "    num = pro_meas*weight\n",
    "    numSum = numSum + num\n",
    "    weightSum = weightSum+ weight\n",
    "weightedMean = numSum/weightSum\n",
    "uncertainty = math.sqrt(1/weightSum)\n",
    "print(weightedMean)\n",
    "print(uncertainty)\n"
   ]
  },
  {
   "cell_type": "markdown",
   "metadata": {},
   "source": [
    "**c)** Calculate the  $\\chi^2$, degrees of freedom, reduced $\\chi^2$ and p-value. Based on the p-value are the data consistant? Do you see what all of the fuss is about."
   ]
  },
  {
   "cell_type": "code",
   "execution_count": 22,
   "metadata": {},
   "outputs": [
    {
     "name": "stdout",
     "output_type": "stream",
     "text": [
      "Proton Results:\n",
      "\n",
      "chisq =  10285.48511513286 \n",
      "dof =  14 \n",
      "reduced chisq =  734.6775082237757 \n",
      "p-value =  1.0\n"
     ]
    }
   ],
   "source": [
    "chisq = np.sum((proCharge-.8751)**2/pc_uncertainty**2)\n",
    "dof = len(proCharge) - 1\n",
    "reducedChisq = chisq/dof\n",
    "pValue = sf.gammainc(dof/2.0, chisq/2.0)\n",
    "\n",
    "print('Proton Results:\\n')\n",
    "print('chisq = ',chisq, '\\ndof = ',dof, '\\nreduced chisq = ',reducedChisq,'\\np-value = ',pValue)"
   ]
  },
  {
   "cell_type": "markdown",
   "metadata": {},
   "source": [
    "**d)** Plot the measurement number vs. the proton charge radius. Don't forget to include the error bars on the proton charge radius measurements. Then Fit a line of the form  $y = p_0$ , where $p_0$ is a constant parameter.\n",
    "\n",
    "How does your $p_0$ value compare to the weighted mean you calculated earlier in part b)?"
   ]
  },
  {
   "cell_type": "code",
   "execution_count": 23,
   "metadata": {},
   "outputs": [
    {
     "name": "stdout",
     "output_type": "stream",
     "text": [
      "p0 = 0.8771218811321834\n"
     ]
    },
    {
     "data": {
      "image/png": "[encoded data removed]",
      "text/plain": [
       "<Figure size 432x288 with 1 Axes>"
      ]
     },
     "metadata": {
      "needs_background": "light"
     },
     "output_type": "display_data"
    }
   ],
   "source": [
    "fig = plt.figure()\n",
    "axes = fig.add_axes([0.1,0.1,0.8,0.8])\n",
    "axes.errorbar(expNumPro, proCharge, yerr = pc_uncertainty, fmt='.',label = 'Data')\n",
    "axes.plot(expNumPro,proCharge)\n",
    "\n",
    "\n",
    "def best_fit_intercept(x,y):\n",
    "    m = (((np.mean(x)*np.mean(y))-np.mean(x*y))/((np.mean(x)*np.mean(y))- np.mean(x*x)))\n",
    "    b = np.mean(y)-m*np.mean(x)\n",
    "    return b\n",
    "p0 = best_fit_intercept(expNumPro,proCharge)\n",
    "plt.axhline(y =p0 ,color='k')\n",
    "print('p0 =', p0)\n",
    "\n",
    "#p0 value is 4.13% different than weighted mean value, a significant difference."
   ]
  },
  {
   "cell_type": "markdown",
   "metadata": {},
   "source": [
    "# Problem 3: Selecting Data\n",
    "\n",
    "In particle physics we sometimes want to measure a particlular particle that is created from the many resulting from a collision in a particle collider. In recording these collision events we typically measure other particles which are not the ones we are intersted in. The events we are interested in we reffer to as our signal, whereas the ones we are not interested in we reffer to as a background. \n",
    "\n",
    "**a)** The provided data set (Ep_data.txt) contains values of particle energy/momentum (E/p), the number of particles, and the uncertainty on the number of particles. Import the data and plot the number of particles vs. E/p and be sure to include the error bars on the particle counts. "
   ]
  },
  {
   "cell_type": "code",
   "execution_count": 10,
   "metadata": {},
   "outputs": [
    {
     "data": {
      "text/plain": [
       "<matplotlib.collections.PathCollection at 0x23858efb588>"
      ]
     },
     "execution_count": 10,
     "metadata": {},
     "output_type": "execute_result"
    },
    {
     "data": {
      "image/png": "[encoded data removed]",
      "text/plain": [
       "<Figure size 432x288 with 1 Axes>"
      ]
     },
     "metadata": {
      "needs_background": "light"
     },
     "output_type": "display_data"
    }
   ],
   "source": [
    "partEnergyMomentum, numParticles, numPart_uncertainty = np.loadtxt('data/Ep_data.txt', unpack=True)\n",
    "fig = plt.figure()\n",
    "axes = fig.add_axes([0.1,0.1,0.8,0.8])\n",
    "plt.scatter(partEnergyMomentum,numParticles)"
   ]
  },
  {
   "cell_type": "markdown",
   "metadata": {},
   "source": [
    "**b)** You should notice that there appear to be two clear distributions here. One which seems to be centered E/p = 0.6 and another around E/p = 1. The population at the lower E/p represent pions, whereas the population around E/p = 1 are electrons. For this exersice we will treat the pions as a background and the electrons as our signal. We will model each particle type to have a Gaussian distribution. Define two functions, one that returns a value computed from a Gaussian value, and anther function that returns a value computed from the sum of two Gaussian functions. Then make a fit to the data using the sum of two Gaussian functions. Each of your Gaussian functions can take the form of:\n",
    "\n",
    "$G_1(x) = p_1 e^{-(x-p_2)^2/(2p_3)}$\n",
    "\n",
    "where the $p_1, p_2,$ and $p_3$ are three parameters for the one Gaussian function. You will have 3 more different parameters for the other Gaussian function $G_2(x)$. \n",
    "\n",
    "Note: Did you get a negative value for the gaussian widths from your fit? We know that a negative value is not physical. Try to give some initial parameters for the fit to start with."
   ]
  },
  {
   "cell_type": "code",
   "execution_count": 11,
   "metadata": {},
   "outputs": [
    {
     "name": "stdout",
     "output_type": "stream",
     "text": [
      "Initial fit:\n",
      "[16.05301359  0.73255887  0.07499512]\n",
      "[[ 1.55424714e-02 -1.87170303e-06 -9.65939088e-05]\n",
      " [-1.87170303e-06  6.09227071e-06 -2.30184082e-08]\n",
      " [-9.65939088e-05 -2.30184082e-08  1.81604568e-06]]\n",
      "Initial fit:\n",
      "[2.02093825e+01 6.01230419e-01 1.05958790e-02 9.74415738e+00\n",
      " 1.00366163e+00 5.93336943e-02]\n",
      "[[ 1.34645725e-01  2.68239095e-04  5.83610063e-05  6.72854203e-03\n",
      "   2.44106129e-03 -1.14429616e-03]\n",
      " [ 2.68239095e-04  2.44561443e-06  2.80427723e-07 -3.19598388e-05\n",
      "   8.14672579e-06 -2.91395427e-06]\n",
      " [ 5.83610063e-05  2.80427723e-07  1.49034949e-07 -4.71426501e-06\n",
      "   2.46364865e-06 -9.85868627e-07]\n",
      " [ 6.72854203e-03 -3.19598388e-05 -4.71426501e-06  1.89696047e-02\n",
      "   5.70633395e-06 -1.70261271e-04]\n",
      " [ 2.44106129e-03  8.14672579e-06  2.46364865e-06  5.70633395e-06\n",
      "   7.59636678e-05 -2.62944314e-05]\n",
      " [-1.14429616e-03 -2.91395427e-06 -9.85868627e-07 -1.70261271e-04\n",
      "  -2.62944314e-05  1.51634226e-05]]\n"
     ]
    },
    {
     "data": {
      "text/plain": [
       "[<matplotlib.lines.Line2D at 0x2386d0aaac8>]"
      ]
     },
     "execution_count": 11,
     "metadata": {},
     "output_type": "execute_result"
    },
    {
     "data": {
      "image/png": "[encoded data removed]",
      "text/plain": [
       "<Figure size 432x288 with 1 Axes>"
      ]
     },
     "metadata": {
      "needs_background": "light"
     },
     "output_type": "display_data"
    },
    {
     "data": {
      "image/png": "[encoded data removed]",
      "text/plain": [
       "<Figure size 432x288 with 1 Axes>"
      ]
     },
     "metadata": {
      "needs_background": "light"
     },
     "output_type": "display_data"
    }
   ],
   "source": [
    "def gauss_func1(x,p1,p2,p3):\n",
    "    return p1*np.exp(-(x-p2)**2/(2*p3))\n",
    "\n",
    "def gauss_funcSum(x,p1,p2,p3,p4,p5,p6):\n",
    "    return p1*np.exp(-(x-p2)**2/(2*p3))+p4*np.exp(-(x-p5)**2/(2*p6))\n",
    "\n",
    "print('Initial fit:')\n",
    "popt,pcov = curve_fit(gauss_func1,partEnergyMomentum,numParticles,sigma=numPart_uncertainty,absolute_sigma=True)\n",
    "print(popt)\n",
    "print(pcov)\n",
    "\n",
    "fig = plt.figure()\n",
    "axes = fig.add_axes([0.1,0.1,0.8,0.8])\n",
    "axes.plot(numParticles,gauss_func1(numParticles,*popt),'.')\n",
    "\n",
    "print('Initial fit:')\n",
    "popt,pcov = curve_fit(gauss_funcSum,partEnergyMomentum,numParticles,sigma=numPart_uncertainty,absolute_sigma=True)\n",
    "print(popt)\n",
    "print(pcov)\n",
    "fig = plt.figure()\n",
    "axes = fig.add_axes([0.1,0.1,0.8,0.8])\n",
    "axes.plot(numParticles,gauss_funcSum(numParticles,*popt),'.')\n"
   ]
  },
  {
   "cell_type": "markdown",
   "metadata": {},
   "source": [
    "**c)** Calculate your $\\chi^2$, degrees of freedom, reduced $\\chi^2$, and p-value for the fit to the data.\n",
    "Based on those statistics above is this a good fit? Explain."
   ]
  },
  {
   "cell_type": "code",
   "execution_count": 12,
   "metadata": {},
   "outputs": [
    {
     "name": "stdout",
     "output_type": "stream",
     "text": [
      "Fit 1 results: \n",
      "\n",
      "chi2 =  108.42094110108559 \n",
      " dof =  93 \n",
      " reduced chi2 =  1.1658165709794148 \n",
      " p-value =  0.13094980575416304\n"
     ]
    }
   ],
   "source": [
    "Fit1_chisq = np.sum((numParticles-gauss_funcSum(partEnergyMomentum,*popt))**2/numPart_uncertainty**2)\n",
    "dof = len(numParticles) - len(popt) - 1\n",
    "\n",
    "Fit1_pvalue = sf.gammaincc(dof/2.0, Fit1_chisq/2.0)\n",
    "\n",
    "print('Fit 1 results: \\n')\n",
    "print('chi2 = ',Fit1_chisq, '\\n dof = ', dof, '\\n reduced chi2 = ', Fit1_chisq/dof, '\\n p-value = ', Fit1_pvalue)"
   ]
  },
  {
   "cell_type": "markdown",
   "metadata": {},
   "source": [
    "**d)** On the same graph, plot your data, the total fit to it, and the single Gaussian functions computed using the parameter results from your 2 Gaussian function fit."
   ]
  },
  {
   "cell_type": "code",
   "execution_count": 13,
   "metadata": {},
   "outputs": [
    {
     "data": {
      "text/plain": [
       "[<matplotlib.lines.Line2D at 0x2386d575d48>]"
      ]
     },
     "execution_count": 13,
     "metadata": {},
     "output_type": "execute_result"
    },
    {
     "data": {
      "image/png": "[encoded data removed]",
      "text/plain": [
       "<Figure size 432x288 with 1 Axes>"
      ]
     },
     "metadata": {
      "needs_background": "light"
     },
     "output_type": "display_data"
    }
   ],
   "source": [
    "fig = plt.figure()\n",
    "axes = fig.add_axes([0.1,0.1,0.8,0.8])\n",
    "axes.errorbar(partEnergyMomentum,numParticles,numPart_uncertainty, fmt='.', label = 'Data')\n",
    "axes.plot(partEnergyMomentum,gauss_funcSum(partEnergyMomentum,*popt),'r-', label = 'fit 2')"
   ]
  },
  {
   "cell_type": "markdown",
   "metadata": {},
   "source": [
    "**e)** We can use the $E/p$ distribution to try to select the maximum number of electron while minimizing the pions that *leak* into our electron signal. We can do this by requireing our selected sample to be larger than some $E/p$ threshold value. Any data that has an $E/p$ value lower then the threshold we throw it out. In a physics analysis this is called a cut. However we need to be careful, if we place a cut at $E/p$ that is too large we will have a really clean electron sample, but throw away a lot of good electrons. On the other hand if we make the $E/p$ cut too low we will keep most of our electrons, but let in a lot of background (pions). So we must compormise between clean data and statistics. To do this lets calculat the total number of electrons we have from $0.0 < E/p < 2$. This can be obtained by integrating (you can use scipy integrators, I used *integrate.quad* when doing this exersise)the electron contribution from our fit. We will call this number e_tot. Do a similar thing for the total pions and call that number pi_tot. \n",
    "\n",
    "For 10 equally spaced E/p thresholds between 0.3 and 0.8, calculate the number of electrons that are above each of the thresholds, we can call this array e_sig and can be obtained by integrating from the E/p threshold to the E/p = 2. Do a similar thing for the pion distribution. \n",
    "\n"
   ]
  },
  {
   "cell_type": "code",
   "execution_count": 14,
   "metadata": {},
   "outputs": [
    {
     "name": "stdout",
     "output_type": "stream",
     "text": [
      "5.949320279941932\n",
      "5.2144855798295255\n",
      "[5.9379278357655405, 5.926235723932094, 5.904841059038679, 5.86766845175477, 5.806342282071617, 5.710275290938111, 5.567383166477523, 5.365570531103252, 5.094928936173866, 4.750303750634601]\n",
      "[5.2055444539930065, 5.1701578200727045, 5.045659347813582, 4.716171476153396, 4.060108635455755, 3.0771373899470933, 1.968828190168261, 1.028419908907845, 0.4279478607259692, 0.1394445155557596]\n"
     ]
    }
   ],
   "source": [
    "from scipy import integrate\n",
    "f = lambda x: p1*np.exp(-(x-p2)**2/(2*p3))\n",
    "epThres = np.linspace(0.3,0.8,10)\n",
    "p1,p2,p3 = popt[3:]\n",
    "a = 0\n",
    "b = 2\n",
    "e_tot = integrate.quad(f,a,b)[0]\n",
    "e_sig = []\n",
    "for thres in epThres:\n",
    "    e_sig.append(integrate.quad(f,thres,b)[0])\n",
    "\n",
    "p1,p2,p3 = popt[:3]\n",
    "p_tot = integrate.quad(f,a,b)[0]\n",
    "\n",
    "p_sig = []\n",
    "for thres in epThres:\n",
    "    p_sig.append(integrate.quad(f,thres,b)[0])\n",
    "\n",
    "print(e_tot)\n",
    "print(p_tot)\n",
    "\n",
    "print(e_sig)\n",
    "print(p_sig)\n",
    "\n"
   ]
  },
  {
   "cell_type": "markdown",
   "metadata": {},
   "source": [
    "**f)** Plot the ratios e_sig/e_tot and pi_sig/pi_tot as a function of E/p threshold on the same graph. "
   ]
  },
  {
   "cell_type": "code",
   "execution_count": 15,
   "metadata": {},
   "outputs": [
    {
     "name": "stdout",
     "output_type": "stream",
     "text": [
      "[0.9980850847424031, 0.9961197994184869, 0.9925236465998958, 0.9862754357901271, 0.9759673389324216, 0.9598197814614623, 0.935801554548659, 0.9018795893697662, 0.8563884101771025, 0.7984615934445819]\n",
      "[0.9982853292621798, 0.9914991116423281, 0.9676236074620687, 0.9044365746059997, 0.7786211263409976, 0.5901133185313541, 0.3775690161622092, 0.19722365574965625, 0.08206904673038905, 0.02674175878348452]\n"
     ]
    },
    {
     "data": {
      "text/plain": [
       "[<matplotlib.lines.Line2D at 0x2386d698ec8>]"
      ]
     },
     "execution_count": 15,
     "metadata": {},
     "output_type": "execute_result"
    },
    {
     "data": {
      "image/png": "[encoded data removed]",
      "text/plain": [
       "<Figure size 432x288 with 1 Axes>"
      ]
     },
     "metadata": {
      "needs_background": "light"
     },
     "output_type": "display_data"
    }
   ],
   "source": [
    "e_ratio = []\n",
    "for values in e_sig:\n",
    "    e_ratio.append(values/e_tot)\n",
    "    \n",
    "p_ratio = []\n",
    "for values in p_sig:\n",
    "    p_ratio.append(values/p_tot)\n",
    "\n",
    "print(e_ratio)\n",
    "print(p_ratio)\n",
    "fig = plt.figure()\n",
    "axes = fig.add_axes([0.1,0.1,0.8,0.8])\n",
    "axes.plot(epThres,e_ratio,'r-',label = 'e_sig/e_tot')\n",
    "axes.plot(epThres,p_ratio,'b-',label = 'p_sig/p_tot')"
   ]
  },
  {
   "cell_type": "markdown",
   "metadata": {},
   "source": [
    "**g)** When the e_sig/etot ratio is 90%, how what percentage of the pion distribution is contaminating our electron sample?"
   ]
  },
  {
   "cell_type": "markdown",
   "metadata": {},
   "source": [
    "~20% contamination"
   ]
  },
  {
   "cell_type": "code",
   "execution_count": null,
   "metadata": {},
   "outputs": [],
   "source": []
  }
 ],
 "metadata": {
  "kernelspec": {
   "display_name": "Python 3",
   "language": "python",
   "name": "python3"
  },
  "language_info": {
   "codemirror_mode": {
    "name": "ipython",
    "version": 3
   },
   "file_extension": ".py",
   "mimetype": "text/x-python",
   "name": "python",
   "nbconvert_exporter": "python",
   "pygments_lexer": "ipython3",
   "version": "3.7.4"
  }
 },
 "nbformat": 4,
 "nbformat_minor": 4
}
